{
 "cells": [
  {
   "cell_type": "markdown",
   "metadata": {},
   "source": [
    "# K Nearest Neighbors\n",
    "An example of how to classify data points using K Nearest Neighbors\n",
    "\n",
    "The data from the Institute of Agrophysics of the Polish Academy of Sciences in Lublin consists of three different varieties of wheat: Kama, Rosa and Canadian. There are 70 elements of each, randomly selected for an experiment.\n",
    "\n",
    "The data includes:\n",
    "* Area (A) - area of the seed\n",
    "* Perimeter (P) - perimeter of the seed\n",
    "* Compactness = 4*pi*A/P2\n",
    "* Kernel_length - Length of the seed\n",
    "* Kernel_width - Width of the seed\n",
    "* Asymmetry_coef - The coefficient of asymmetry for the seed\n",
    "* Groove_length - the length of the groove down the middle of the seed\n",
    "* Seed - the class of seed (Kama, Rosa, or Canadian)"
   ]
  },
  {
   "cell_type": "markdown",
   "metadata": {},
   "source": [
    "## 1. Library Imports and Data Loading"
   ]
  },
  {
   "cell_type": "code",
   "execution_count": 1,
   "metadata": {},
   "outputs": [],
   "source": [
    "import pandas as pd\n",
    "import seaborn as sns\n",
    "import matplotlib.pyplot as plt\n",
    "from sklearn.neighbors import KNeighborsClassifier\n",
    "from sklearn.model_selection import train_test_split\n",
    "from sklearn.metrics import confusion_matrix, ConfusionMatrixDisplay"
   ]
  },
  {
   "cell_type": "code",
   "execution_count": 2,
   "metadata": {},
   "outputs": [],
   "source": [
    "df = pd.read_csv(\"data/seeds.csv\")"
   ]
  },
  {
   "cell_type": "markdown",
   "metadata": {},
   "source": [
    "## 2. Understanding the Data"
   ]
  },
  {
   "cell_type": "code",
   "execution_count": 3,
   "metadata": {},
   "outputs": [
    {
     "name": "stdout",
     "output_type": "stream",
     "text": [
      "<class 'pandas.core.frame.DataFrame'>\n",
      "RangeIndex: 210 entries, 0 to 209\n",
      "Data columns (total 8 columns):\n",
      " #   Column          Non-Null Count  Dtype  \n",
      "---  ------          --------------  -----  \n",
      " 0   area            210 non-null    float64\n",
      " 1   perimeter       210 non-null    float64\n",
      " 2   compactness     210 non-null    float64\n",
      " 3   kernel_length   210 non-null    float64\n",
      " 4   kernel_width    210 non-null    float64\n",
      " 5   asymmetry_coef  210 non-null    float64\n",
      " 6   groove_length   210 non-null    float64\n",
      " 7   seed            210 non-null    object \n",
      "dtypes: float64(7), object(1)\n",
      "memory usage: 13.2+ KB\n"
     ]
    },
    {
     "data": {
      "text/plain": [
       "seed\n",
       "Kama        70\n",
       "Rosa        70\n",
       "Canadian    70\n",
       "Name: count, dtype: int64"
      ]
     },
     "execution_count": 3,
     "metadata": {},
     "output_type": "execute_result"
    }
   ],
   "source": [
    "df.info()\n",
    "df.head()\n",
    "df[\"seed\"].value_counts()"
   ]
  },
  {
   "cell_type": "markdown",
   "metadata": {},
   "source": [
    "We can create a multi-class classifcation model using all the feautres and the label \"seed\"."
   ]
  },
  {
   "cell_type": "markdown",
   "metadata": {},
   "source": [
    "## 3. Feature Selection"
   ]
  },
  {
   "cell_type": "markdown",
   "metadata": {},
   "source": [
    "### 3.1. Forward Selection"
   ]
  },
  {
   "cell_type": "markdown",
   "metadata": {},
   "source": [
    "When K = 5"
   ]
  },
  {
   "cell_type": "code",
   "execution_count": 4,
   "metadata": {},
   "outputs": [
    {
     "name": "stdout",
     "output_type": "stream",
     "text": [
      "Added:  perimeter\n",
      "Added:  asymmetry_coef\n",
      "Added:  compactness\n",
      "Added:  kernel_length\n",
      "Added:  kernel_width\n",
      "Added:  groove_length\n",
      "Added:  area\n"
     ]
    }
   ],
   "source": [
    "# TODO: Modify your code for Forward Selection to work for KNN\n",
    "# Be sure to resplit your training and test data every time you\n",
    "# add a new feature with a random_state=5.\n",
    "features = ['area', 'perimeter', 'compactness', 'kernel_length', 'kernel_width', 'asymmetry_coef', 'groove_length']\n",
    "y = df[\"seed\"]\n",
    "model = KNeighborsClassifier(n_neighbors=5)\n",
    "best_score = 0\n",
    "best_feature = None\n",
    "selected_features = []\n",
    "length = len(features)\n",
    "for i in range(length):\n",
    "    best_score = 0\n",
    "    best_feature = None\n",
    "    for feature in features:\n",
    "        X = df[[feature] + selected_features]\n",
    "        X_train, X_test, y_train, y_test = train_test_split(X, y, test_size=0.2, random_state=5)\n",
    "        model = model.fit(X_train, y_train)\n",
    "        # Evaluate the model\n",
    "        score = model.score(X_test, y_test) \n",
    "        # print(\"Feature:\", feature, \"Best Score:\", best_score, \"Score:\", score)\n",
    "        if score > best_score:\n",
    "            best_score = score\n",
    "            best_feature = feature\n",
    "    selected_features.append(best_feature)\n",
    "    features.remove(best_feature)\n",
    "    print(\"Added: \", best_feature)\n",
    "    # print(\"Selected Features:\", selected_features, \"Score:\", best_score)"
   ]
  },
  {
   "cell_type": "markdown",
   "metadata": {},
   "source": [
    "When K = 10"
   ]
  },
  {
   "cell_type": "code",
   "execution_count": 5,
   "metadata": {},
   "outputs": [
    {
     "name": "stdout",
     "output_type": "stream",
     "text": [
      "Added:  area\n",
      "Added:  asymmetry_coef\n",
      "Added:  perimeter\n",
      "Added:  compactness\n",
      "Added:  kernel_length\n",
      "Added:  kernel_width\n",
      "Added:  groove_length\n"
     ]
    }
   ],
   "source": [
    "features = ['area', 'perimeter', 'compactness', 'kernel_length', 'kernel_width', 'asymmetry_coef', 'groove_length']\n",
    "y = df[\"seed\"]\n",
    "model = KNeighborsClassifier(n_neighbors=10)\n",
    "best_score = 0\n",
    "best_feature = None\n",
    "selected_features = []\n",
    "length = len(features)\n",
    "for i in range(length):\n",
    "    best_score = 0\n",
    "    best_feature = None\n",
    "    for feature in features:\n",
    "        X = df[[feature] + selected_features]\n",
    "        X_train, X_test, y_train, y_test = train_test_split(X, y, test_size=0.2, random_state=5)\n",
    "        model = model.fit(X_train, y_train)\n",
    "        # Evaluate the model\n",
    "        score = model.score(X_test, y_test) \n",
    "        # print(\"Feature:\", feature, \"Best Score:\", best_score, \"Score:\", score)\n",
    "        if score > best_score:\n",
    "            best_score = score\n",
    "            best_feature = feature\n",
    "    selected_features.append(best_feature)\n",
    "    features.remove(best_feature)\n",
    "    print(\"Added: \", best_feature)\n",
    "    # print(\"Selected Features:\", selected_features, \"Score:\", best_score)"
   ]
  },
  {
   "cell_type": "markdown",
   "metadata": {},
   "source": [
    "1. When we change the value of K, the model is looking at a differnet amount of the closest points in order to evaluate what features should be added. So when k=5 it looks at the 5 closest points while at k=10 it looks at the closest 10 points\n",
    "2. I would recommend the second model where k=10 considering that their are 210 different values in the data set I think it is a more representative number of points to look at increasing the accuracy. "
   ]
  },
  {
   "cell_type": "markdown",
   "metadata": {},
   "source": [
    "## 4. Building our Model"
   ]
  },
  {
   "cell_type": "code",
   "execution_count": 6,
   "metadata": {},
   "outputs": [
    {
     "data": {
      "text/plain": [
       "Index(['area', 'perimeter', 'compactness', 'kernel_length', 'kernel_width',\n",
       "       'asymmetry_coef', 'groove_length', 'seed'],\n",
       "      dtype='object')"
      ]
     },
     "execution_count": 6,
     "metadata": {},
     "output_type": "execute_result"
    }
   ],
   "source": [
    "df.columns"
   ]
  },
  {
   "cell_type": "code",
   "execution_count": 7,
   "metadata": {},
   "outputs": [],
   "source": [
    "# Extract Data\n",
    "X = df[['area', 'perimeter', 'compactness', 'kernel_length', 'kernel_width',\n",
    "       'asymmetry_coef', 'groove_length']]\n",
    "y = df[\"seed\"]\n",
    "\n",
    "# Split into training and test sets\n",
    "X_train, X_test, y_train, y_test = train_test_split(X, y, test_size=0.2, random_state=5)\n",
    "\n",
    "#Create the model\n",
    "model = KNeighborsClassifier(n_neighbors=3)\n",
    "\n",
    "# Train the model\n",
    "model = model.fit(X_train, y_train)\n"
   ]
  },
  {
   "cell_type": "markdown",
   "metadata": {},
   "source": [
    "## 5. Evaluation"
   ]
  },
  {
   "cell_type": "code",
   "execution_count": 8,
   "metadata": {},
   "outputs": [
    {
     "name": "stdout",
     "output_type": "stream",
     "text": [
      "      area  perimeter  compactness  kernel_length  kernel_width  \\\n",
      "21   14.11      14.26       0.8722          5.520         3.168   \n",
      "53   14.33      14.28       0.8831          5.504         3.199   \n",
      "120  20.24      16.91       0.8897          6.315         3.962   \n",
      "51   15.78      14.91       0.8923          5.674         3.434   \n",
      "26   13.02      13.76       0.8641          5.395         3.026   \n",
      "198  12.62      13.67       0.8481          5.410         2.911   \n",
      "107  17.63      15.86       0.8800          6.033         3.573   \n",
      "28   14.11      14.18       0.8820          5.541         3.221   \n",
      "6    14.69      14.49       0.8799          5.563         3.259   \n",
      "157  12.13      13.73       0.8081          5.394         2.745   \n",
      "202  11.18      12.72       0.8680          5.009         2.810   \n",
      "25   16.19      15.16       0.8849          5.833         3.421   \n",
      "42   13.16      13.55       0.9009          5.138         3.201   \n",
      "116  18.96      16.20       0.9077          6.051         3.897   \n",
      "90   20.10      16.99       0.8746          6.581         3.785   \n",
      "197  13.37      13.78       0.8849          5.320         3.128   \n",
      "168  11.35      13.12       0.8291          5.176         2.668   \n",
      "156  11.34      12.87       0.8596          5.053         2.849   \n",
      "87   18.98      16.66       0.8590          6.549         3.670   \n",
      "74   16.82      15.51       0.8786          6.017         3.486   \n",
      "101  17.99      15.86       0.8992          5.890         3.694   \n",
      "194  12.11      13.27       0.8639          5.236         2.975   \n",
      "200  12.38      13.44       0.8609          5.219         2.989   \n",
      "195  12.80      13.47       0.8860          5.160         3.126   \n",
      "98   18.17      16.26       0.8637          6.271         3.512   \n",
      "46   15.36      14.76       0.8861          5.701         3.393   \n",
      "204  12.37      13.47       0.8567          5.204         2.960   \n",
      "127  17.98      15.85       0.8993          5.979         3.687   \n",
      "188  11.23      12.82       0.8594          5.089         2.821   \n",
      "3    13.84      13.94       0.8955          5.324         3.379   \n",
      "34   15.05      14.68       0.8779          5.712         3.328   \n",
      "142  13.34      13.95       0.8620          5.389         3.074   \n",
      "61   11.23      12.63       0.8840          4.902         2.879   \n",
      "207  13.20      13.66       0.8883          5.236         3.232   \n",
      "102  19.46      16.50       0.8985          6.113         3.892   \n",
      "201  12.67      13.32       0.8977          4.984         3.135   \n",
      "191  11.27      12.86       0.8563          5.091         2.804   \n",
      "151  12.01      13.52       0.8249          5.405         2.776   \n",
      "117  19.15      16.45       0.8890          6.245         3.815   \n",
      "140  13.07      13.92       0.8480          5.472         2.994   \n",
      "17   15.69      14.75       0.9058          5.527         3.514   \n",
      "93   18.59      16.05       0.9066          6.037         3.860   \n",
      "\n",
      "     asymmetry_coef  groove_length  \n",
      "21            2.688          5.219  \n",
      "53            3.328          5.224  \n",
      "120           5.901          6.188  \n",
      "51            5.593          5.136  \n",
      "26            3.373          4.825  \n",
      "198           3.306          5.231  \n",
      "107           3.747          5.929  \n",
      "28            2.754          5.038  \n",
      "6             3.586          5.219  \n",
      "157           4.825          5.220  \n",
      "202           4.051          4.828  \n",
      "25            0.903          5.307  \n",
      "42            2.461          4.783  \n",
      "116           4.334          5.750  \n",
      "90            1.955          6.449  \n",
      "197           4.670          5.091  \n",
      "168           4.337          5.132  \n",
      "156           3.347          5.003  \n",
      "87            3.691          6.498  \n",
      "74            4.004          5.841  \n",
      "101           2.068          5.837  \n",
      "194           4.132          5.012  \n",
      "200           5.472          5.045  \n",
      "195           4.873          4.914  \n",
      "98            2.853          6.273  \n",
      "46            1.367          5.132  \n",
      "204           3.919          5.001  \n",
      "127           2.257          5.919  \n",
      "188           7.524          4.957  \n",
      "3             2.259          4.805  \n",
      "34            2.129          5.360  \n",
      "142           5.995          5.307  \n",
      "61            2.269          4.703  \n",
      "207           8.315          5.056  \n",
      "102           4.308          6.009  \n",
      "201           2.300          4.745  \n",
      "191           3.985          5.001  \n",
      "151           6.992          5.270  \n",
      "117           3.084          6.185  \n",
      "140           5.304          5.395  \n",
      "17            1.599          5.046  \n",
      "93            6.001          5.877  \n"
     ]
    }
   ],
   "source": [
    "print(X_test)"
   ]
  },
  {
   "cell_type": "code",
   "execution_count": 9,
   "metadata": {},
   "outputs": [
    {
     "data": {
      "text/plain": [
       "array(['Kama', 'Kama', 'Rosa', 'Rosa', 'Kama', 'Canadian', 'Rosa', 'Kama',\n",
       "       'Kama', 'Canadian', 'Canadian', 'Kama', 'Kama', 'Rosa', 'Rosa',\n",
       "       'Kama', 'Canadian', 'Canadian', 'Rosa', 'Rosa', 'Rosa', 'Canadian',\n",
       "       'Canadian', 'Canadian', 'Rosa', 'Kama', 'Canadian', 'Rosa',\n",
       "       'Canadian', 'Kama', 'Kama', 'Canadian', 'Canadian', 'Canadian',\n",
       "       'Rosa', 'Kama', 'Canadian', 'Canadian', 'Rosa', 'Canadian', 'Kama',\n",
       "       'Rosa'], dtype=object)"
      ]
     },
     "execution_count": 9,
     "metadata": {},
     "output_type": "execute_result"
    }
   ],
   "source": [
    "# Make predictions on the test data\n",
    "y_pred = model.predict(X_test)\n",
    "\n",
    "y_pred"
   ]
  },
  {
   "cell_type": "code",
   "execution_count": 10,
   "metadata": {},
   "outputs": [
    {
     "data": {
      "text/plain": [
       "<sklearn.metrics._plot.confusion_matrix.ConfusionMatrixDisplay at 0x103714430>"
      ]
     },
     "execution_count": 10,
     "metadata": {},
     "output_type": "execute_result"
    },
    {
     "data": {
      "image/png": "[encoded data removed]",
      "text/plain": [
       "<Figure size 640x480 with 2 Axes>"
      ]
     },
     "metadata": {},
     "output_type": "display_data"
    }
   ],
   "source": [
    "# Create a confusion matrix\n",
    "labels = df[\"seed\"].unique()\n",
    "conf_mat = confusion_matrix(y_test, y_pred, labels=labels)\n",
    "\n",
    "disp = ConfusionMatrixDisplay(conf_mat, display_labels=labels)\n",
    "disp.plot()\n"
   ]
  },
  {
   "cell_type": "code",
   "execution_count": 11,
   "metadata": {},
   "outputs": [
    {
     "data": {
      "text/plain": [
       "0.9047619047619048"
      ]
     },
     "execution_count": 11,
     "metadata": {},
     "output_type": "execute_result"
    }
   ],
   "source": [
    "# Accuracy as shown by confusion matrix\n",
    "model.score(X_test, y_test)"
   ]
  }
 ],
 "metadata": {
  "kernelspec": {
   "display_name": ".venv",
   "language": "python",
   "name": "python3"
  },
  "language_info": {
   "codemirror_mode": {
    "name": "ipython",
    "version": 3
   },
   "file_extension": ".py",
   "mimetype": "text/x-python",
   "name": "python",
   "nbconvert_exporter": "python",
   "pygments_lexer": "ipython3",
   "version": "3.9.6"
  }
 },
 "nbformat": 4,
 "nbformat_minor": 2
}
