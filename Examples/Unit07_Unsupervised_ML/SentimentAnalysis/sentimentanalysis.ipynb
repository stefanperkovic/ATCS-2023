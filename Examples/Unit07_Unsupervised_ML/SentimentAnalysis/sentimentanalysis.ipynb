{
 "cells": [
  {
   "cell_type": "markdown",
   "metadata": {},
   "source": [
    "# Natural Language Processing - Sentiment Analysis\n",
    "An example in a few of the steps of NLP. Specifically focused on Sentiment Analysis.\n",
    "\n",
    "We will be working with a set of 100,000 Amazon reviews."
   ]
  },
  {
   "cell_type": "markdown",
   "metadata": {},
   "source": [
    "pip install ipykernel nltk pandas seaborn"
   ]
  },
  {
   "cell_type": "markdown",
   "metadata": {},
   "source": [
    "## 1. Import Libraries"
   ]
  },
  {
   "cell_type": "code",
   "execution_count": 1,
   "metadata": {},
   "outputs": [],
   "source": [
    "import pandas as pd\n",
    "import nltk\n",
    "from nltk.probability import FreqDist\n",
    "from nltk.stem import LancasterStemmer\n",
    "from nltk.stem import WordNetLemmatizer\n",
    "from nltk.sentiment import SentimentIntensityAnalyzer\n",
    "import matplotlib.pyplot as plt\n",
    "import seaborn as sns"
   ]
  },
  {
   "cell_type": "code",
   "execution_count": 2,
   "metadata": {},
   "outputs": [
    {
     "name": "stderr",
     "output_type": "stream",
     "text": [
      "[nltk_data] Downloading package punkt to\n",
      "[nltk_data]     /Users/stefanperkovic/nltk_data...\n",
      "[nltk_data]   Unzipping tokenizers/punkt.zip.\n",
      "[nltk_data] Downloading package averaged_perceptron_tagger to\n",
      "[nltk_data]     /Users/stefanperkovic/nltk_data...\n",
      "[nltk_data]   Unzipping taggers/averaged_perceptron_tagger.zip.\n",
      "[nltk_data] Downloading package vader_lexicon to\n",
      "[nltk_data]     /Users/stefanperkovic/nltk_data...\n"
     ]
    },
    {
     "data": {
      "text/plain": [
       "True"
      ]
     },
     "execution_count": 2,
     "metadata": {},
     "output_type": "execute_result"
    }
   ],
   "source": [
    "import ssl\n",
    "\n",
    "try:\n",
    "    _create_unverified_https_context = ssl._create_unverified_context\n",
    "except AttributeError:\n",
    "    pass\n",
    "else:\n",
    "    ssl._create_default_https_context = _create_unverified_https_context\n",
    "\n",
    "nltk.download('punkt')\n",
    "nltk.download('averaged_perceptron_tagger')\n",
    "nltk.download('vader_lexicon')"
   ]
  },
  {
   "cell_type": "markdown",
   "metadata": {},
   "source": [
    "## 2. Data Loading and Understanding"
   ]
  },
  {
   "cell_type": "code",
   "execution_count": 3,
   "metadata": {},
   "outputs": [],
   "source": [
    "df = pd.read_csv(\"data/reviews.csv\")"
   ]
  },
  {
   "cell_type": "code",
   "execution_count": 4,
   "metadata": {},
   "outputs": [
    {
     "data": {
      "text/plain": [
       "(100000, 10)"
      ]
     },
     "execution_count": 4,
     "metadata": {},
     "output_type": "execute_result"
    }
   ],
   "source": [
    "df.shape"
   ]
  },
  {
   "cell_type": "markdown",
   "metadata": {},
   "source": [
    "## 3. Minimal Exploratory Data Analysis"
   ]
  },
  {
   "cell_type": "code",
   "execution_count": 6,
   "metadata": {},
   "outputs": [
    {
     "data": {
      "text/html": [
       "<div>\n",
       "<style scoped>\n",
       "    .dataframe tbody tr th:only-of-type {\n",
       "        vertical-align: middle;\n",
       "    }\n",
       "\n",
       "    .dataframe tbody tr th {\n",
       "        vertical-align: top;\n",
       "    }\n",
       "\n",
       "    .dataframe thead th {\n",
       "        text-align: right;\n",
       "    }\n",
       "</style>\n",
       "<table border=\"1\" class=\"dataframe\">\n",
       "  <thead>\n",
       "    <tr style=\"text-align: right;\">\n",
       "      <th></th>\n",
       "      <th>Id</th>\n",
       "      <th>ProductId</th>\n",
       "      <th>UserId</th>\n",
       "      <th>ProfileName</th>\n",
       "      <th>HelpfulnessNumerator</th>\n",
       "      <th>HelpfulnessDenominator</th>\n",
       "      <th>Score</th>\n",
       "      <th>Time</th>\n",
       "      <th>Summary</th>\n",
       "      <th>Text</th>\n",
       "    </tr>\n",
       "  </thead>\n",
       "  <tbody>\n",
       "    <tr>\n",
       "      <th>0</th>\n",
       "      <td>238216</td>\n",
       "      <td>B002JVPFZ8</td>\n",
       "      <td>A1B563ESLJ4EAU</td>\n",
       "      <td>Matthew Carney</td>\n",
       "      <td>2</td>\n",
       "      <td>2</td>\n",
       "      <td>5</td>\n",
       "      <td>1258416000</td>\n",
       "      <td>love 'em!</td>\n",
       "      <td>Someone gave me half a pack several years ago....</td>\n",
       "    </tr>\n",
       "    <tr>\n",
       "      <th>1</th>\n",
       "      <td>1392</td>\n",
       "      <td>B00068PCTU</td>\n",
       "      <td>A1WVOM1UQU9ZN0</td>\n",
       "      <td>carola whitlow</td>\n",
       "      <td>0</td>\n",
       "      <td>0</td>\n",
       "      <td>5</td>\n",
       "      <td>1340496000</td>\n",
       "      <td>The World's Best Sweetener</td>\n",
       "      <td>Stevia is pretty much the only natural zero-ca...</td>\n",
       "    </tr>\n",
       "    <tr>\n",
       "      <th>2</th>\n",
       "      <td>495917</td>\n",
       "      <td>B004UBCJ5Y</td>\n",
       "      <td>A1PDFBS64JCPQC</td>\n",
       "      <td>AC</td>\n",
       "      <td>0</td>\n",
       "      <td>1</td>\n",
       "      <td>1</td>\n",
       "      <td>1334620800</td>\n",
       "      <td>Taste Like Movie Popcorn</td>\n",
       "      <td>Thinking these would be good for an upcoming b...</td>\n",
       "    </tr>\n",
       "    <tr>\n",
       "      <th>3</th>\n",
       "      <td>449823</td>\n",
       "      <td>B000E8PZNA</td>\n",
       "      <td>A2FX2RPCHQ1P41</td>\n",
       "      <td>M. Coggin \"Clean Life\"</td>\n",
       "      <td>6</td>\n",
       "      <td>6</td>\n",
       "      <td>5</td>\n",
       "      <td>1194912000</td>\n",
       "      <td>Excellent tea with different, full flavor</td>\n",
       "      <td>The six pack is a good value, really no more t...</td>\n",
       "    </tr>\n",
       "    <tr>\n",
       "      <th>4</th>\n",
       "      <td>530212</td>\n",
       "      <td>B003NC749C</td>\n",
       "      <td>A2GCRABUU8351C</td>\n",
       "      <td>MommaG</td>\n",
       "      <td>1</td>\n",
       "      <td>2</td>\n",
       "      <td>2</td>\n",
       "      <td>1285632000</td>\n",
       "      <td>Too bland.</td>\n",
       "      <td>Flavor is too subtle.  I found myself putting ...</td>\n",
       "    </tr>\n",
       "  </tbody>\n",
       "</table>\n",
       "</div>"
      ],
      "text/plain": [
       "       Id   ProductId          UserId             ProfileName  \\\n",
       "0  238216  B002JVPFZ8  A1B563ESLJ4EAU          Matthew Carney   \n",
       "1    1392  B00068PCTU  A1WVOM1UQU9ZN0          carola whitlow   \n",
       "2  495917  B004UBCJ5Y  A1PDFBS64JCPQC                      AC   \n",
       "3  449823  B000E8PZNA  A2FX2RPCHQ1P41  M. Coggin \"Clean Life\"   \n",
       "4  530212  B003NC749C  A2GCRABUU8351C                  MommaG   \n",
       "\n",
       "   HelpfulnessNumerator  HelpfulnessDenominator  Score        Time  \\\n",
       "0                     2                       2      5  1258416000   \n",
       "1                     0                       0      5  1340496000   \n",
       "2                     0                       1      1  1334620800   \n",
       "3                     6                       6      5  1194912000   \n",
       "4                     1                       2      2  1285632000   \n",
       "\n",
       "                                     Summary  \\\n",
       "0                                  love 'em!   \n",
       "1                 The World's Best Sweetener   \n",
       "2                   Taste Like Movie Popcorn   \n",
       "3  Excellent tea with different, full flavor   \n",
       "4                                 Too bland.   \n",
       "\n",
       "                                                Text  \n",
       "0  Someone gave me half a pack several years ago....  \n",
       "1  Stevia is pretty much the only natural zero-ca...  \n",
       "2  Thinking these would be good for an upcoming b...  \n",
       "3  The six pack is a good value, really no more t...  \n",
       "4  Flavor is too subtle.  I found myself putting ...  "
      ]
     },
     "execution_count": 6,
     "metadata": {},
     "output_type": "execute_result"
    }
   ],
   "source": [
    "df.columns\n",
    "df.head()"
   ]
  },
  {
   "cell_type": "code",
   "execution_count": 8,
   "metadata": {},
   "outputs": [
    {
     "data": {
      "image/png": "[encoded data removed]",
      "text/plain": [
       "<Figure size 558.875x500 with 1 Axes>"
      ]
     },
     "metadata": {},
     "output_type": "display_data"
    }
   ],
   "source": [
    "# How many of each rating there are\n",
    "ax = sns.catplot(data=df, x='Score', kind=\"count\", hue='Score')\n",
    "plt.show()"
   ]
  },
  {
   "cell_type": "markdown",
   "metadata": {},
   "source": [
    "## 4. Example Text Pre-Processing"
   ]
  },
  {
   "cell_type": "markdown",
   "metadata": {},
   "source": [
    "### Tokenization\n",
    "Breaking the text into sentences, phrases, words, and symbols."
   ]
  },
  {
   "cell_type": "code",
   "execution_count": 10,
   "metadata": {},
   "outputs": [
    {
     "data": {
      "text/plain": [
       "['My',\n",
       " 'little',\n",
       " 'dog',\n",
       " 'loves',\n",
       " 'these',\n",
       " 'treats',\n",
       " '.',\n",
       " 'Besides',\n",
       " 'rewarding',\n",
       " 'my']"
      ]
     },
     "execution_count": 10,
     "metadata": {},
     "output_type": "execute_result"
    }
   ],
   "source": [
    "# Get a random review\n",
    "review = df[\"Text\"][50]\n",
    "review\n",
    "\n",
    "# TOkenize using nltk\n",
    "tokens = nltk.word_tokenize(review)\n",
    "\n",
    "# Display the first 10 tokens\n",
    "tokens[:10]"
   ]
  },
  {
   "cell_type": "markdown",
   "metadata": {},
   "source": [
    "### Frequency Distribution"
   ]
  },
  {
   "cell_type": "code",
   "execution_count": 13,
   "metadata": {},
   "outputs": [
    {
     "data": {
      "text/plain": [
       "[('.', 3),\n",
       " ('dog', 2),\n",
       " ('treats', 2),\n",
       " ('My', 1),\n",
       " ('little', 1),\n",
       " ('loves', 1),\n",
       " ('these', 1),\n",
       " ('Besides', 1),\n",
       " ('rewarding', 1),\n",
       " ('my', 1)]"
      ]
     },
     "execution_count": 13,
     "metadata": {},
     "output_type": "execute_result"
    }
   ],
   "source": [
    "fdist = FreqDist(tokens)\n",
    "fdist\n",
    "\n",
    "# top 10 words\n",
    "fdist.most_common(10)"
   ]
  },
  {
   "cell_type": "markdown",
   "metadata": {},
   "source": [
    "### Stemming\n",
    "Cutting off the ends of the words to get some type of root"
   ]
  },
  {
   "cell_type": "code",
   "execution_count": 20,
   "metadata": {},
   "outputs": [
    {
     "name": "stdout",
     "output_type": "stream",
     "text": [
      "giving:  giv\n",
      "better:  bet\n",
      "giving:  giv\n"
     ]
    }
   ],
   "source": [
    "# Stemming - cuts off the ends of a word\n",
    "lst = LancasterStemmer()\n",
    "\n",
    "print(\"giving: \", lst.stem(\"giving\"))\n",
    "print(\"better: \", lst.stem(\"better\"))\n",
    "print(\"giving: \", lst.stem(\"giving\"))\n",
    "\n"
   ]
  },
  {
   "cell_type": "markdown",
   "metadata": {},
   "source": [
    "### Lemmatization\n",
    "Determining the roots of words"
   ]
  },
  {
   "cell_type": "code",
   "execution_count": 18,
   "metadata": {},
   "outputs": [
    {
     "name": "stdout",
     "output_type": "stream",
     "text": [
      "better: good\n",
      "alumni: alumnus\n"
     ]
    }
   ],
   "source": [
    "# Lemmatizing - helps find the root of a word\n",
    "lmt = WordNetLemmatizer()\n",
    "\n",
    "print(\"better:\", lmt.lemmatize(\"better\", pos=\"a\"))\n",
    "print(\"alumni:\", lmt.lemmatize(\"alumni\"))"
   ]
  },
  {
   "cell_type": "markdown",
   "metadata": {},
   "source": [
    "### Part of Speech Tagging"
   ]
  },
  {
   "cell_type": "code",
   "execution_count": 19,
   "metadata": {},
   "outputs": [
    {
     "data": {
      "text/plain": [
       "[('My', 'PRP$'),\n",
       " ('little', 'JJ'),\n",
       " ('dog', 'JJ'),\n",
       " ('loves', 'VBZ'),\n",
       " ('these', 'DT'),\n",
       " ('treats', 'NNS'),\n",
       " ('.', '.'),\n",
       " ('Besides', 'IN'),\n",
       " ('rewarding', 'VBG'),\n",
       " ('my', 'PRP$')]"
      ]
     },
     "execution_count": 19,
     "metadata": {},
     "output_type": "execute_result"
    }
   ],
   "source": [
    "tagged = nltk.pos_tag(tokens)\n",
    "\n",
    "# Displays the first 10\n",
    "tagged[:10]"
   ]
  },
  {
   "cell_type": "markdown",
   "metadata": {},
   "source": [
    "## 5. Sentiment Analysis"
   ]
  },
  {
   "cell_type": "code",
   "execution_count": 21,
   "metadata": {},
   "outputs": [],
   "source": [
    "# Sentiment Analysis\n",
    "sia = SentimentIntensityAnalyzer()"
   ]
  },
  {
   "cell_type": "code",
   "execution_count": 32,
   "metadata": {},
   "outputs": [
    {
     "data": {
      "text/plain": [
       "{'neg': 0.0, 'neu': 0.318, 'pos': 0.682, 'compound': 0.6468}"
      ]
     },
     "execution_count": 32,
     "metadata": {},
     "output_type": "execute_result"
    }
   ],
   "source": [
    "sia.polarity_scores(\"I am so happy!\")\n"
   ]
  },
  {
   "cell_type": "code",
   "execution_count": 33,
   "metadata": {},
   "outputs": [],
   "source": [
    "# Get just a 100 reviews to make it simple\n",
    "df1 = df.sample(100)"
   ]
  },
  {
   "cell_type": "code",
   "execution_count": 34,
   "metadata": {},
   "outputs": [],
   "source": [
    "# Return the sentiment score of each review\n",
    "def get_polarity_scores(review):\n",
    "    scores = sia.polarity_scores(review)\n",
    "    return scores[\"neg\"], scores[\"pos\"], scores[\"neu\"], scores[\"compound\"]\n",
    "\n",
    "# Apply polarity scoring function and save scores into separate columns\n",
    "df1[['Negative', 'Positive', 'Neutral', 'Compound']] = df1['Text'].apply(lambda x: pd.Series(get_polarity_scores(x)))"
   ]
  },
  {
   "cell_type": "code",
   "execution_count": 35,
   "metadata": {},
   "outputs": [
    {
     "data": {
      "text/html": [
       "<div>\n",
       "<style scoped>\n",
       "    .dataframe tbody tr th:only-of-type {\n",
       "        vertical-align: middle;\n",
       "    }\n",
       "\n",
       "    .dataframe tbody tr th {\n",
       "        vertical-align: top;\n",
       "    }\n",
       "\n",
       "    .dataframe thead th {\n",
       "        text-align: right;\n",
       "    }\n",
       "</style>\n",
       "<table border=\"1\" class=\"dataframe\">\n",
       "  <thead>\n",
       "    <tr style=\"text-align: right;\">\n",
       "      <th></th>\n",
       "      <th>Id</th>\n",
       "      <th>ProductId</th>\n",
       "      <th>UserId</th>\n",
       "      <th>ProfileName</th>\n",
       "      <th>HelpfulnessNumerator</th>\n",
       "      <th>HelpfulnessDenominator</th>\n",
       "      <th>Score</th>\n",
       "      <th>Time</th>\n",
       "      <th>Summary</th>\n",
       "      <th>Text</th>\n",
       "      <th>Negative</th>\n",
       "      <th>Positive</th>\n",
       "      <th>Neutral</th>\n",
       "      <th>Compound</th>\n",
       "    </tr>\n",
       "  </thead>\n",
       "  <tbody>\n",
       "    <tr>\n",
       "      <th>25843</th>\n",
       "      <td>508754</td>\n",
       "      <td>B002T5TMWG</td>\n",
       "      <td>A2XKJ1KX6XUHYP</td>\n",
       "      <td>NYFB</td>\n",
       "      <td>7</td>\n",
       "      <td>10</td>\n",
       "      <td>1</td>\n",
       "      <td>1292457600</td>\n",
       "      <td>Not as firm as LA SIRENA...</td>\n",
       "      <td>Majority of the cans are lined in plastic and ...</td>\n",
       "      <td>0.083</td>\n",
       "      <td>0.093</td>\n",
       "      <td>0.823</td>\n",
       "      <td>0.1453</td>\n",
       "    </tr>\n",
       "    <tr>\n",
       "      <th>30150</th>\n",
       "      <td>160466</td>\n",
       "      <td>B00503DOY6</td>\n",
       "      <td>ACZ4YTYID1ESD</td>\n",
       "      <td>Mona Johnson \"Rosie\"</td>\n",
       "      <td>1</td>\n",
       "      <td>1</td>\n",
       "      <td>5</td>\n",
       "      <td>1336176000</td>\n",
       "      <td>Awesome!</td>\n",
       "      <td>These are exceptional \"whenever\" bars!  I keep...</td>\n",
       "      <td>0.000</td>\n",
       "      <td>0.208</td>\n",
       "      <td>0.792</td>\n",
       "      <td>0.9133</td>\n",
       "    </tr>\n",
       "    <tr>\n",
       "      <th>14967</th>\n",
       "      <td>79562</td>\n",
       "      <td>B003TNANSO</td>\n",
       "      <td>A4UNLGM6VM5Z1</td>\n",
       "      <td>YellowBird</td>\n",
       "      <td>2</td>\n",
       "      <td>2</td>\n",
       "      <td>5</td>\n",
       "      <td>1279670400</td>\n",
       "      <td>Best protein/snack bar I've found</td>\n",
       "      <td>Discovered KIND bars at a roadside rest area a...</td>\n",
       "      <td>0.056</td>\n",
       "      <td>0.268</td>\n",
       "      <td>0.677</td>\n",
       "      <td>0.9438</td>\n",
       "    </tr>\n",
       "    <tr>\n",
       "      <th>59931</th>\n",
       "      <td>284095</td>\n",
       "      <td>B0051COPH6</td>\n",
       "      <td>AQSW6WDVCJGB8</td>\n",
       "      <td>Teetee</td>\n",
       "      <td>0</td>\n",
       "      <td>0</td>\n",
       "      <td>5</td>\n",
       "      <td>1336867200</td>\n",
       "      <td>Baby loves it and his tummy takes it well!</td>\n",
       "      <td>My infant loves it!  Juicy Pear and Garden Gre...</td>\n",
       "      <td>0.055</td>\n",
       "      <td>0.212</td>\n",
       "      <td>0.733</td>\n",
       "      <td>0.9918</td>\n",
       "    </tr>\n",
       "    <tr>\n",
       "      <th>93402</th>\n",
       "      <td>508323</td>\n",
       "      <td>B001PQNV6S</td>\n",
       "      <td>A137CU956U8KWF</td>\n",
       "      <td>J</td>\n",
       "      <td>0</td>\n",
       "      <td>0</td>\n",
       "      <td>5</td>\n",
       "      <td>1263254400</td>\n",
       "      <td>Gluten free, really? They taste AMAZING!!</td>\n",
       "      <td>Finding gluten free products that taste decent...</td>\n",
       "      <td>0.023</td>\n",
       "      <td>0.312</td>\n",
       "      <td>0.665</td>\n",
       "      <td>0.9951</td>\n",
       "    </tr>\n",
       "  </tbody>\n",
       "</table>\n",
       "</div>"
      ],
      "text/plain": [
       "           Id   ProductId          UserId           ProfileName  \\\n",
       "25843  508754  B002T5TMWG  A2XKJ1KX6XUHYP                  NYFB   \n",
       "30150  160466  B00503DOY6   ACZ4YTYID1ESD  Mona Johnson \"Rosie\"   \n",
       "14967   79562  B003TNANSO   A4UNLGM6VM5Z1            YellowBird   \n",
       "59931  284095  B0051COPH6   AQSW6WDVCJGB8                Teetee   \n",
       "93402  508323  B001PQNV6S  A137CU956U8KWF                     J   \n",
       "\n",
       "       HelpfulnessNumerator  HelpfulnessDenominator  Score        Time  \\\n",
       "25843                     7                      10      1  1292457600   \n",
       "30150                     1                       1      5  1336176000   \n",
       "14967                     2                       2      5  1279670400   \n",
       "59931                     0                       0      5  1336867200   \n",
       "93402                     0                       0      5  1263254400   \n",
       "\n",
       "                                          Summary  \\\n",
       "25843                 Not as firm as LA SIRENA...   \n",
       "30150                                    Awesome!   \n",
       "14967           Best protein/snack bar I've found   \n",
       "59931  Baby loves it and his tummy takes it well!   \n",
       "93402   Gluten free, really? They taste AMAZING!!   \n",
       "\n",
       "                                                    Text  Negative  Positive  \\\n",
       "25843  Majority of the cans are lined in plastic and ...     0.083     0.093   \n",
       "30150  These are exceptional \"whenever\" bars!  I keep...     0.000     0.208   \n",
       "14967  Discovered KIND bars at a roadside rest area a...     0.056     0.268   \n",
       "59931  My infant loves it!  Juicy Pear and Garden Gre...     0.055     0.212   \n",
       "93402  Finding gluten free products that taste decent...     0.023     0.312   \n",
       "\n",
       "       Neutral  Compound  \n",
       "25843    0.823    0.1453  \n",
       "30150    0.792    0.9133  \n",
       "14967    0.677    0.9438  \n",
       "59931    0.733    0.9918  \n",
       "93402    0.665    0.9951  "
      ]
     },
     "execution_count": 35,
     "metadata": {},
     "output_type": "execute_result"
    }
   ],
   "source": [
    "df1.head()"
   ]
  },
  {
   "cell_type": "markdown",
   "metadata": {},
   "source": [
    "## 6. Visualization"
   ]
  },
  {
   "cell_type": "code",
   "execution_count": 36,
   "metadata": {},
   "outputs": [
    {
     "data": {
      "image/png": "[encoded data removed]",
      "text/plain": [
       "<Figure size 640x480 with 1 Axes>"
      ]
     },
     "metadata": {},
     "output_type": "display_data"
    }
   ],
   "source": [
    "# Graph it\n",
    "ax = sns.barplot(data=df1, x='Score', y='Compound')\n",
    "ax.set_title('Compound Score by Amazon Star Review')\n",
    "plt.show()"
   ]
  }
 ],
 "metadata": {
  "kernelspec": {
   "display_name": ".venv",
   "language": "python",
   "name": "python3"
  },
  "language_info": {
   "codemirror_mode": {
    "name": "ipython",
    "version": 3
   },
   "file_extension": ".py",
   "mimetype": "text/x-python",
   "name": "python",
   "nbconvert_exporter": "python",
   "pygments_lexer": "ipython3",
   "version": "3.9.6"
  }
 },
 "nbformat": 4,
 "nbformat_minor": 2
}
