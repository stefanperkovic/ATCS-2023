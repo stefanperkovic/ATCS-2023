{
 "cells": [
  {
   "cell_type": "markdown",
   "metadata": {},
   "source": [
    "# Imputation\n",
    "\n",
    "Goal: Understand and clean our data so we can derive better insights"
   ]
  },
  {
   "cell_type": "markdown",
   "metadata": {},
   "source": [
    "## 1. Import Libraries"
   ]
  },
  {
   "cell_type": "code",
   "execution_count": 1,
   "metadata": {},
   "outputs": [
    {
     "name": "stderr",
     "output_type": "stream",
     "text": [
      "/var/folders/z9/gzbgl18s2wgcr125qq0q2h280000gn/T/ipykernel_30077/3015360917.py:1: DeprecationWarning: \n",
      "Pyarrow will become a required dependency of pandas in the next major release of pandas (pandas 3.0),\n",
      "(to allow more performant data types, such as the Arrow string type, and better interoperability with other libraries)\n",
      "but was not found to be installed on your system.\n",
      "If this would cause problems for you,\n",
      "please provide us feedback at https://github.com/pandas-dev/pandas/issues/54466\n",
      "        \n",
      "  import pandas as pd\n"
     ]
    }
   ],
   "source": [
    "import pandas as pd\n",
    "from sklearn.experimental import enable_iterative_imputer\n",
    "from sklearn.impute import SimpleImputer, IterativeImputer"
   ]
  },
  {
   "cell_type": "markdown",
   "metadata": {},
   "source": [
    "## 2. Load the Dataset"
   ]
  },
  {
   "cell_type": "code",
   "execution_count": 2,
   "metadata": {},
   "outputs": [],
   "source": [
    "df = pd.read_csv(\"data/NY-House-Dataset-Small.csv\")\n",
    "\n",
    "# Drop BROKERTITLE and 'ADMINISTRATIVE_AREA_LEVEL_2'\n",
    "df = df.drop([\"BROKERTITLE\", \"ADMINISTRATIVE_AREA_LEVEL_2\"], axis=1)"
   ]
  },
  {
   "cell_type": "code",
   "execution_count": 3,
   "metadata": {},
   "outputs": [
    {
     "name": "stdout",
     "output_type": "stream",
     "text": [
      "<class 'pandas.core.frame.DataFrame'>\n",
      "RangeIndex: 4815 entries, 0 to 4814\n",
      "Data columns (total 9 columns):\n",
      " #   Column        Non-Null Count  Dtype  \n",
      "---  ------        --------------  -----  \n",
      " 0   TYPE          4815 non-null   object \n",
      " 1   PRICE         4815 non-null   int64  \n",
      " 2   BEDS          4815 non-null   int64  \n",
      " 3   BATH          4815 non-null   float64\n",
      " 4   PROPERTYSQFT  4815 non-null   float64\n",
      " 5   STATE         4815 non-null   object \n",
      " 6   MAIN_ADDRESS  4815 non-null   object \n",
      " 7   LOCALITY      4791 non-null   object \n",
      " 8   SUBLOCALITY   4815 non-null   object \n",
      "dtypes: float64(2), int64(2), object(5)\n",
      "memory usage: 338.7+ KB\n"
     ]
    },
    {
     "data": {
      "text/plain": [
       "Index(['TYPE', 'PRICE', 'BEDS', 'BATH', 'PROPERTYSQFT', 'STATE',\n",
       "       'MAIN_ADDRESS', 'LOCALITY', 'SUBLOCALITY'],\n",
       "      dtype='object')"
      ]
     },
     "execution_count": 3,
     "metadata": {},
     "output_type": "execute_result"
    }
   ],
   "source": [
    "df.info()\n",
    "df.columns"
   ]
  },
  {
   "cell_type": "markdown",
   "metadata": {},
   "source": [
    "## 3. Finding Missing Data\n",
    "\n",
    "Steps:\n",
    "1. Use Descriptive Statistics to examine data\n",
    "2. Identify missing values\n",
    "3. Understand why the data is missing\n",
    "4. Decide to impute or drop values\n",
    "5. Document your approach"
   ]
  },
  {
   "cell_type": "markdown",
   "metadata": {},
   "source": [
    "### LOCALITY\n",
    "\n",
    "Cells with missing data are not always so nicely filled with Null values. Let's take a look at how we can identify missing data."
   ]
  },
  {
   "cell_type": "code",
   "execution_count": 5,
   "metadata": {},
   "outputs": [
    {
     "data": {
      "text/plain": [
       "LOCALITY\n",
       "New York           2468\n",
       "New York County     966\n",
       "Queens County       555\n",
       "Kings County        462\n",
       "Bronx County        179\n",
       "Richmond County      58\n",
       "United States        34\n",
       "Na                   30\n",
       "-                    22\n",
       "Brooklyn              6\n",
       "Queens                6\n",
       "The Bronx             4\n",
       "Flatbush              1\n",
       "Name: count, dtype: int64"
      ]
     },
     "execution_count": 5,
     "metadata": {},
     "output_type": "execute_result"
    }
   ],
   "source": [
    "# Count the missing data\n",
    "df[\"LOCALITY\"].isna().sum()\n",
    "\n",
    "df[\"LOCALITY\"].value_counts()"
   ]
  },
  {
   "cell_type": "code",
   "execution_count": 6,
   "metadata": {},
   "outputs": [
    {
     "data": {
      "text/plain": [
       "LOCALITY\n",
       "New York           2468\n",
       "New York County     966\n",
       "Queens County       555\n",
       "Kings County        462\n",
       "Bronx County        179\n",
       "Richmond County      58\n",
       "Brooklyn              6\n",
       "Queens                6\n",
       "The Bronx             4\n",
       "Flatbush              1\n",
       "Name: count, dtype: int64"
      ]
     },
     "execution_count": 6,
     "metadata": {},
     "output_type": "execute_result"
    }
   ],
   "source": [
    "# Map missing values to None\n",
    "def locality_to_none(word):\n",
    "    if word in [\"Na\", \"-\", \"United States\"]:\n",
    "        return None\n",
    "    return word\n",
    "\n",
    "df[\"LOCALITY\"] = df[\"LOCALITY\"].map(locality_to_none)\n",
    "df[\"LOCALITY\"].value_counts()"
   ]
  },
  {
   "cell_type": "code",
   "execution_count": 7,
   "metadata": {},
   "outputs": [
    {
     "data": {
      "text/plain": [
       "110"
      ]
     },
     "execution_count": 7,
     "metadata": {},
     "output_type": "execute_result"
    }
   ],
   "source": [
    "# Count missing data\n",
    "df[\"LOCALITY\"].isna().sum()"
   ]
  },
  {
   "cell_type": "markdown",
   "metadata": {},
   "source": [
    "### PRICE"
   ]
  },
  {
   "cell_type": "code",
   "execution_count": 11,
   "metadata": {},
   "outputs": [
    {
     "data": {
      "text/html": [
       "<div>\n",
       "<style scoped>\n",
       "    .dataframe tbody tr th:only-of-type {\n",
       "        vertical-align: middle;\n",
       "    }\n",
       "\n",
       "    .dataframe tbody tr th {\n",
       "        vertical-align: top;\n",
       "    }\n",
       "\n",
       "    .dataframe thead th {\n",
       "        text-align: right;\n",
       "    }\n",
       "</style>\n",
       "<table border=\"1\" class=\"dataframe\">\n",
       "  <thead>\n",
       "    <tr style=\"text-align: right;\">\n",
       "      <th></th>\n",
       "      <th>TYPE</th>\n",
       "      <th>PRICE</th>\n",
       "      <th>BEDS</th>\n",
       "      <th>BATH</th>\n",
       "      <th>PROPERTYSQFT</th>\n",
       "      <th>STATE</th>\n",
       "      <th>MAIN_ADDRESS</th>\n",
       "      <th>LOCALITY</th>\n",
       "      <th>SUBLOCALITY</th>\n",
       "    </tr>\n",
       "  </thead>\n",
       "  <tbody>\n",
       "    <tr>\n",
       "      <th>305</th>\n",
       "      <td>House for sale</td>\n",
       "      <td>2147483647</td>\n",
       "      <td>7</td>\n",
       "      <td>6.0</td>\n",
       "      <td>10000.0</td>\n",
       "      <td>New York, NY 10309</td>\n",
       "      <td>6659-6675 Amboy RdNew York, NY 10309</td>\n",
       "      <td>New York</td>\n",
       "      <td>Richmond County</td>\n",
       "    </tr>\n",
       "  </tbody>\n",
       "</table>\n",
       "</div>"
      ],
      "text/plain": [
       "               TYPE       PRICE  BEDS  BATH  PROPERTYSQFT               STATE  \\\n",
       "305  House for sale  2147483647     7   6.0       10000.0  New York, NY 10309   \n",
       "\n",
       "                             MAIN_ADDRESS  LOCALITY      SUBLOCALITY  \n",
       "305  6659-6675 Amboy RdNew York, NY 10309  New York  Richmond County  "
      ]
     },
     "execution_count": 11,
     "metadata": {},
     "output_type": "execute_result"
    }
   ],
   "source": [
    "# Get the min and max values of PRICE\n",
    "df[\"PRICE\"].max()\n",
    "df[\"PRICE\"].min()\n",
    "\n",
    "# Get the row with the max price value\n",
    "df.loc[df[\"PRICE\"] == df[\"PRICE\"].max()]\n"
   ]
  },
  {
   "cell_type": "markdown",
   "metadata": {},
   "source": [
    "We'll drop the row where PRICE == to the max interger because we're unable to find or validate the price"
   ]
  },
  {
   "cell_type": "code",
   "execution_count": 12,
   "metadata": {},
   "outputs": [],
   "source": [
    "# Drop by index -- this isn't a safe way to drop rows because if you ran multiple times you would lose multiple rows of data\n",
    "df.drop(305)\n",
    "\n",
    "df = df.drop(df.loc[df[\"PRICE\"] == 2147483647].index)"
   ]
  },
  {
   "cell_type": "markdown",
   "metadata": {},
   "source": [
    "## 4. Imputation"
   ]
  },
  {
   "cell_type": "code",
   "execution_count": 14,
   "metadata": {},
   "outputs": [],
   "source": [
    "# Get the indices where \"PRICE\" == 0 to verify\n",
    "price_0 = df.loc[df[\"PRICE\"] == 0].index\n",
    "\n",
    "# Map all the rows where price is 0 to None\n",
    "df[\"PRICE\"] = df[\"PRICE\"].map(lambda price: None if price == 0 else price)"
   ]
  },
  {
   "cell_type": "markdown",
   "metadata": {},
   "source": [
    "### Univariate: Mean and Median Imputation"
   ]
  },
  {
   "cell_type": "code",
   "execution_count": 16,
   "metadata": {},
   "outputs": [
    {
     "data": {
      "text/plain": [
       "62       825000.0\n",
       "81       825000.0\n",
       "134      825000.0\n",
       "178      825000.0\n",
       "278      825000.0\n",
       "          ...    \n",
       "4509     489000.0\n",
       "4553    4880000.0\n",
       "4597    2800000.0\n",
       "4648    3900000.0\n",
       "4763    1950000.0\n",
       "Name: PRICE, Length: 79, dtype: float64"
      ]
     },
     "execution_count": 16,
     "metadata": {},
     "output_type": "execute_result"
    }
   ],
   "source": [
    "# Mean imputation\n",
    "avg_prices = df[\"PRICE\"].fillna(df[\"PRICE\"].mean())\n",
    "avg_prices.iloc[price_0]\n",
    "\n",
    "# Median imputation\n",
    "med_prices = df[\"PRICE\"].fillna(df[\"PRICE\"].median())\n",
    "med_prices.iloc[price_0]"
   ]
  },
  {
   "cell_type": "markdown",
   "metadata": {},
   "source": [
    "### Multivariate Imputation\n",
    "Estimating the values of the column based off of values of other columns. This method uses machine learning algorithms for estimation/prediction."
   ]
  },
  {
   "cell_type": "markdown",
   "metadata": {},
   "source": [
    "##### *Transform Categorical Data to Numeric*"
   ]
  },
  {
   "cell_type": "code",
   "execution_count": 21,
   "metadata": {},
   "outputs": [
    {
     "data": {
      "text/html": [
       "<div>\n",
       "<style scoped>\n",
       "    .dataframe tbody tr th:only-of-type {\n",
       "        vertical-align: middle;\n",
       "    }\n",
       "\n",
       "    .dataframe tbody tr th {\n",
       "        vertical-align: top;\n",
       "    }\n",
       "\n",
       "    .dataframe thead th {\n",
       "        text-align: right;\n",
       "    }\n",
       "</style>\n",
       "<table border=\"1\" class=\"dataframe\">\n",
       "  <thead>\n",
       "    <tr style=\"text-align: right;\">\n",
       "      <th></th>\n",
       "      <th>SUBLOCALITY</th>\n",
       "      <th>SUBLOCALITY_CODES</th>\n",
       "    </tr>\n",
       "  </thead>\n",
       "  <tbody>\n",
       "    <tr>\n",
       "      <th>0</th>\n",
       "      <td>Manhattan</td>\n",
       "      <td>10</td>\n",
       "    </tr>\n",
       "    <tr>\n",
       "      <th>1</th>\n",
       "      <td>New York County</td>\n",
       "      <td>12</td>\n",
       "    </tr>\n",
       "    <tr>\n",
       "      <th>2</th>\n",
       "      <td>Richmond County</td>\n",
       "      <td>16</td>\n",
       "    </tr>\n",
       "    <tr>\n",
       "      <th>3</th>\n",
       "      <td>New York County</td>\n",
       "      <td>12</td>\n",
       "    </tr>\n",
       "    <tr>\n",
       "      <th>4</th>\n",
       "      <td>New York County</td>\n",
       "      <td>12</td>\n",
       "    </tr>\n",
       "    <tr>\n",
       "      <th>...</th>\n",
       "      <td>...</td>\n",
       "      <td>...</td>\n",
       "    </tr>\n",
       "    <tr>\n",
       "      <th>4810</th>\n",
       "      <td>New York</td>\n",
       "      <td>11</td>\n",
       "    </tr>\n",
       "    <tr>\n",
       "      <th>4811</th>\n",
       "      <td>Queens County</td>\n",
       "      <td>14</td>\n",
       "    </tr>\n",
       "    <tr>\n",
       "      <th>4812</th>\n",
       "      <td>New York County</td>\n",
       "      <td>12</td>\n",
       "    </tr>\n",
       "    <tr>\n",
       "      <th>4813</th>\n",
       "      <td>Queens</td>\n",
       "      <td>13</td>\n",
       "    </tr>\n",
       "    <tr>\n",
       "      <th>4814</th>\n",
       "      <td>Brooklyn</td>\n",
       "      <td>1</td>\n",
       "    </tr>\n",
       "  </tbody>\n",
       "</table>\n",
       "<p>4814 rows × 2 columns</p>\n",
       "</div>"
      ],
      "text/plain": [
       "          SUBLOCALITY  SUBLOCALITY_CODES\n",
       "0           Manhattan                 10\n",
       "1     New York County                 12\n",
       "2     Richmond County                 16\n",
       "3     New York County                 12\n",
       "4     New York County                 12\n",
       "...               ...                ...\n",
       "4810         New York                 11\n",
       "4811    Queens County                 14\n",
       "4812  New York County                 12\n",
       "4813           Queens                 13\n",
       "4814         Brooklyn                  1\n",
       "\n",
       "[4814 rows x 2 columns]"
      ]
     },
     "execution_count": 21,
     "metadata": {},
     "output_type": "execute_result"
    }
   ],
   "source": [
    "df[\"SUBLOCALITY\"].value_counts()\n",
    "\n",
    "# Cast our sublocality column to be categorical\n",
    "pd.Categorical(df[\"SUBLOCALITY\"])\n",
    "\n",
    "df[\"SUBLOCALITY_CODES\"] = pd.Categorical(df[\"SUBLOCALITY\"]).codes\n",
    "\n",
    "df[[\"SUBLOCALITY\", \"SUBLOCALITY_CODES\"]]"
   ]
  },
  {
   "cell_type": "markdown",
   "metadata": {},
   "source": [
    "##### *Iterative Imputer*\n",
    "[IterativeImputer documentation](https://scikit-learn.org/stable/modules/generated/sklearn.impute.IterativeImputer.html#sklearn.impute.IterativeImputer)"
   ]
  },
  {
   "cell_type": "code",
   "execution_count": 23,
   "metadata": {},
   "outputs": [
    {
     "data": {
      "text/html": [
       "<div>\n",
       "<style scoped>\n",
       "    .dataframe tbody tr th:only-of-type {\n",
       "        vertical-align: middle;\n",
       "    }\n",
       "\n",
       "    .dataframe tbody tr th {\n",
       "        vertical-align: top;\n",
       "    }\n",
       "\n",
       "    .dataframe thead th {\n",
       "        text-align: right;\n",
       "    }\n",
       "</style>\n",
       "<table border=\"1\" class=\"dataframe\">\n",
       "  <thead>\n",
       "    <tr style=\"text-align: right;\">\n",
       "      <th></th>\n",
       "      <th>PRICE</th>\n",
       "      <th>BEDS</th>\n",
       "      <th>BATH</th>\n",
       "      <th>PROPERTYSQFT</th>\n",
       "      <th>SUBLOCALITY_CODES</th>\n",
       "    </tr>\n",
       "  </thead>\n",
       "  <tbody>\n",
       "    <tr>\n",
       "      <th>0</th>\n",
       "      <td>315000.0</td>\n",
       "      <td>2.0</td>\n",
       "      <td>2.000000</td>\n",
       "      <td>1400.000000</td>\n",
       "      <td>10.0</td>\n",
       "    </tr>\n",
       "    <tr>\n",
       "      <th>1</th>\n",
       "      <td>195000000.0</td>\n",
       "      <td>7.0</td>\n",
       "      <td>10.000000</td>\n",
       "      <td>17545.000000</td>\n",
       "      <td>12.0</td>\n",
       "    </tr>\n",
       "    <tr>\n",
       "      <th>2</th>\n",
       "      <td>260000.0</td>\n",
       "      <td>4.0</td>\n",
       "      <td>2.000000</td>\n",
       "      <td>2015.000000</td>\n",
       "      <td>16.0</td>\n",
       "    </tr>\n",
       "    <tr>\n",
       "      <th>3</th>\n",
       "      <td>69000.0</td>\n",
       "      <td>3.0</td>\n",
       "      <td>1.000000</td>\n",
       "      <td>445.000000</td>\n",
       "      <td>12.0</td>\n",
       "    </tr>\n",
       "    <tr>\n",
       "      <th>4</th>\n",
       "      <td>55000000.0</td>\n",
       "      <td>7.0</td>\n",
       "      <td>2.373861</td>\n",
       "      <td>14175.000000</td>\n",
       "      <td>12.0</td>\n",
       "    </tr>\n",
       "    <tr>\n",
       "      <th>...</th>\n",
       "      <td>...</td>\n",
       "      <td>...</td>\n",
       "      <td>...</td>\n",
       "      <td>...</td>\n",
       "      <td>...</td>\n",
       "    </tr>\n",
       "    <tr>\n",
       "      <th>4809</th>\n",
       "      <td>599000.0</td>\n",
       "      <td>1.0</td>\n",
       "      <td>1.000000</td>\n",
       "      <td>2184.207862</td>\n",
       "      <td>11.0</td>\n",
       "    </tr>\n",
       "    <tr>\n",
       "      <th>4810</th>\n",
       "      <td>245000.0</td>\n",
       "      <td>1.0</td>\n",
       "      <td>1.000000</td>\n",
       "      <td>2184.207862</td>\n",
       "      <td>14.0</td>\n",
       "    </tr>\n",
       "    <tr>\n",
       "      <th>4811</th>\n",
       "      <td>1275000.0</td>\n",
       "      <td>1.0</td>\n",
       "      <td>1.000000</td>\n",
       "      <td>2184.207862</td>\n",
       "      <td>12.0</td>\n",
       "    </tr>\n",
       "    <tr>\n",
       "      <th>4812</th>\n",
       "      <td>598125.0</td>\n",
       "      <td>2.0</td>\n",
       "      <td>1.000000</td>\n",
       "      <td>655.000000</td>\n",
       "      <td>13.0</td>\n",
       "    </tr>\n",
       "    <tr>\n",
       "      <th>4813</th>\n",
       "      <td>349000.0</td>\n",
       "      <td>1.0</td>\n",
       "      <td>1.000000</td>\n",
       "      <td>750.000000</td>\n",
       "      <td>1.0</td>\n",
       "    </tr>\n",
       "  </tbody>\n",
       "</table>\n",
       "<p>4814 rows × 5 columns</p>\n",
       "</div>"
      ],
      "text/plain": [
       "            PRICE  BEDS       BATH  PROPERTYSQFT  SUBLOCALITY_CODES\n",
       "0        315000.0   2.0   2.000000   1400.000000               10.0\n",
       "1     195000000.0   7.0  10.000000  17545.000000               12.0\n",
       "2        260000.0   4.0   2.000000   2015.000000               16.0\n",
       "3         69000.0   3.0   1.000000    445.000000               12.0\n",
       "4      55000000.0   7.0   2.373861  14175.000000               12.0\n",
       "...           ...   ...        ...           ...                ...\n",
       "4809     599000.0   1.0   1.000000   2184.207862               11.0\n",
       "4810     245000.0   1.0   1.000000   2184.207862               14.0\n",
       "4811    1275000.0   1.0   1.000000   2184.207862               12.0\n",
       "4812     598125.0   2.0   1.000000    655.000000               13.0\n",
       "4813     349000.0   1.0   1.000000    750.000000                1.0\n",
       "\n",
       "[4814 rows x 5 columns]"
      ]
     },
     "execution_count": 23,
     "metadata": {},
     "output_type": "execute_result"
    }
   ],
   "source": [
    "# Only works on numerical columns\n",
    "numerical = df.select_dtypes(\"number\")\n",
    "\n",
    "# Create a new imputer object\n",
    "it_imp = IterativeImputer(max_iter=10)\n",
    "\n",
    "# We need to train our model on our data\n",
    "it_imp = it_imp.fit(numerical)\n",
    "\n",
    "# Use our model to tranform our data\n",
    "imp_data = pd.DataFrame(it_imp.transform(numerical), columns=numerical.columns)\n",
    "imp_data\n"
   ]
  },
  {
   "cell_type": "code",
   "execution_count": 24,
   "metadata": {},
   "outputs": [
    {
     "data": {
      "text/html": [
       "<div>\n",
       "<style scoped>\n",
       "    .dataframe tbody tr th:only-of-type {\n",
       "        vertical-align: middle;\n",
       "    }\n",
       "\n",
       "    .dataframe tbody tr th {\n",
       "        vertical-align: top;\n",
       "    }\n",
       "\n",
       "    .dataframe thead th {\n",
       "        text-align: right;\n",
       "    }\n",
       "</style>\n",
       "<table border=\"1\" class=\"dataframe\">\n",
       "  <thead>\n",
       "    <tr style=\"text-align: right;\">\n",
       "      <th></th>\n",
       "      <th>TYPE</th>\n",
       "      <th>PRICE</th>\n",
       "      <th>BEDS</th>\n",
       "      <th>BATH</th>\n",
       "      <th>PROPERTYSQFT</th>\n",
       "      <th>STATE</th>\n",
       "      <th>MAIN_ADDRESS</th>\n",
       "      <th>LOCALITY</th>\n",
       "      <th>SUBLOCALITY</th>\n",
       "      <th>SUBLOCALITY_CODES</th>\n",
       "    </tr>\n",
       "  </thead>\n",
       "  <tbody>\n",
       "    <tr>\n",
       "      <th>62</th>\n",
       "      <td>Co-op for sale</td>\n",
       "      <td>7.676513e+05</td>\n",
       "      <td>1.0</td>\n",
       "      <td>1.0</td>\n",
       "      <td>835.000000</td>\n",
       "      <td>New York, NY 10065</td>\n",
       "      <td>333 E 66th St Apt 8ENew York, NY 10065</td>\n",
       "      <td>New York County</td>\n",
       "      <td>New York</td>\n",
       "      <td>11.0</td>\n",
       "    </tr>\n",
       "    <tr>\n",
       "      <th>81</th>\n",
       "      <td>Condo for sale</td>\n",
       "      <td>9.628645e+05</td>\n",
       "      <td>2.0</td>\n",
       "      <td>2.0</td>\n",
       "      <td>1065.000000</td>\n",
       "      <td>New York, NY 10128</td>\n",
       "      <td>200 E 94th St Apt 414New York, NY 10128</td>\n",
       "      <td>New York County</td>\n",
       "      <td>New York</td>\n",
       "      <td>11.0</td>\n",
       "    </tr>\n",
       "    <tr>\n",
       "      <th>134</th>\n",
       "      <td>Foreclosure</td>\n",
       "      <td>3.230162e+06</td>\n",
       "      <td>5.0</td>\n",
       "      <td>4.0</td>\n",
       "      <td>3740.000000</td>\n",
       "      <td>New York, NY 10031</td>\n",
       "      <td>517 W 142nd StNew York, NY 10031</td>\n",
       "      <td>New York</td>\n",
       "      <td>New York County</td>\n",
       "      <td>12.0</td>\n",
       "    </tr>\n",
       "    <tr>\n",
       "      <th>178</th>\n",
       "      <td>House for sale</td>\n",
       "      <td>1.840778e+06</td>\n",
       "      <td>4.0</td>\n",
       "      <td>4.0</td>\n",
       "      <td>2100.000000</td>\n",
       "      <td>Staten Island, NY 10312</td>\n",
       "      <td>82 Vineland AveStaten Island, NY 10312</td>\n",
       "      <td>New York</td>\n",
       "      <td>Richmond County</td>\n",
       "      <td>16.0</td>\n",
       "    </tr>\n",
       "    <tr>\n",
       "      <th>278</th>\n",
       "      <td>Co-op for sale</td>\n",
       "      <td>5.263571e+05</td>\n",
       "      <td>3.0</td>\n",
       "      <td>1.0</td>\n",
       "      <td>550.000000</td>\n",
       "      <td>New York, NY 10023</td>\n",
       "      <td>165 W End Ave Apt 16CNew York, NY 10023</td>\n",
       "      <td>New York County</td>\n",
       "      <td>New York</td>\n",
       "      <td>11.0</td>\n",
       "    </tr>\n",
       "    <tr>\n",
       "      <th>...</th>\n",
       "      <td>...</td>\n",
       "      <td>...</td>\n",
       "      <td>...</td>\n",
       "      <td>...</td>\n",
       "      <td>...</td>\n",
       "      <td>...</td>\n",
       "      <td>...</td>\n",
       "      <td>...</td>\n",
       "      <td>...</td>\n",
       "      <td>...</td>\n",
       "    </tr>\n",
       "    <tr>\n",
       "      <th>4509</th>\n",
       "      <td>House for sale</td>\n",
       "      <td>4.990000e+05</td>\n",
       "      <td>3.0</td>\n",
       "      <td>2.0</td>\n",
       "      <td>1890.000000</td>\n",
       "      <td>Bronx, NY 10470</td>\n",
       "      <td>4429 Matilda AveBronx, NY 10470</td>\n",
       "      <td>New York</td>\n",
       "      <td>Bronx County</td>\n",
       "      <td>16.0</td>\n",
       "    </tr>\n",
       "    <tr>\n",
       "      <th>4553</th>\n",
       "      <td>Condo for sale</td>\n",
       "      <td>6.000000e+05</td>\n",
       "      <td>1.0</td>\n",
       "      <td>1.0</td>\n",
       "      <td>830.000000</td>\n",
       "      <td>Manhattan, NY 10018</td>\n",
       "      <td>400 Fifth Ave Unit 57EManhattan, NY 10018</td>\n",
       "      <td>New York County</td>\n",
       "      <td>New York</td>\n",
       "      <td>14.0</td>\n",
       "    </tr>\n",
       "    <tr>\n",
       "      <th>4597</th>\n",
       "      <td>Co-op for sale</td>\n",
       "      <td>6.990000e+05</td>\n",
       "      <td>1.0</td>\n",
       "      <td>1.0</td>\n",
       "      <td>2184.207862</td>\n",
       "      <td>New York, NY 10021</td>\n",
       "      <td>23 E 74th St Apt 14FNew York, NY 10021</td>\n",
       "      <td>New York County</td>\n",
       "      <td>New York</td>\n",
       "      <td>11.0</td>\n",
       "    </tr>\n",
       "    <tr>\n",
       "      <th>4648</th>\n",
       "      <td>Condo for sale</td>\n",
       "      <td>7.950000e+05</td>\n",
       "      <td>2.0</td>\n",
       "      <td>1.0</td>\n",
       "      <td>759.000000</td>\n",
       "      <td>New York, NY 10022</td>\n",
       "      <td>641 Fifth Ave Unit 30FNew York, NY 10022</td>\n",
       "      <td>New York County</td>\n",
       "      <td>New York</td>\n",
       "      <td>11.0</td>\n",
       "    </tr>\n",
       "    <tr>\n",
       "      <th>4763</th>\n",
       "      <td>Co-op for sale</td>\n",
       "      <td>7.400000e+05</td>\n",
       "      <td>2.0</td>\n",
       "      <td>2.0</td>\n",
       "      <td>800.000000</td>\n",
       "      <td>Manhattan, NY 10023</td>\n",
       "      <td>246 W End Ave Apt 6AManhattan, NY 10023</td>\n",
       "      <td>New York County</td>\n",
       "      <td>New York</td>\n",
       "      <td>11.0</td>\n",
       "    </tr>\n",
       "  </tbody>\n",
       "</table>\n",
       "<p>79 rows × 10 columns</p>\n",
       "</div>"
      ],
      "text/plain": [
       "                TYPE         PRICE  BEDS  BATH  PROPERTYSQFT  \\\n",
       "62    Co-op for sale  7.676513e+05   1.0   1.0    835.000000   \n",
       "81    Condo for sale  9.628645e+05   2.0   2.0   1065.000000   \n",
       "134      Foreclosure  3.230162e+06   5.0   4.0   3740.000000   \n",
       "178   House for sale  1.840778e+06   4.0   4.0   2100.000000   \n",
       "278   Co-op for sale  5.263571e+05   3.0   1.0    550.000000   \n",
       "...              ...           ...   ...   ...           ...   \n",
       "4509  House for sale  4.990000e+05   3.0   2.0   1890.000000   \n",
       "4553  Condo for sale  6.000000e+05   1.0   1.0    830.000000   \n",
       "4597  Co-op for sale  6.990000e+05   1.0   1.0   2184.207862   \n",
       "4648  Condo for sale  7.950000e+05   2.0   1.0    759.000000   \n",
       "4763  Co-op for sale  7.400000e+05   2.0   2.0    800.000000   \n",
       "\n",
       "                        STATE                               MAIN_ADDRESS  \\\n",
       "62         New York, NY 10065     333 E 66th St Apt 8ENew York, NY 10065   \n",
       "81         New York, NY 10128    200 E 94th St Apt 414New York, NY 10128   \n",
       "134        New York, NY 10031           517 W 142nd StNew York, NY 10031   \n",
       "178   Staten Island, NY 10312     82 Vineland AveStaten Island, NY 10312   \n",
       "278        New York, NY 10023    165 W End Ave Apt 16CNew York, NY 10023   \n",
       "...                       ...                                        ...   \n",
       "4509          Bronx, NY 10470            4429 Matilda AveBronx, NY 10470   \n",
       "4553      Manhattan, NY 10018  400 Fifth Ave Unit 57EManhattan, NY 10018   \n",
       "4597       New York, NY 10021     23 E 74th St Apt 14FNew York, NY 10021   \n",
       "4648       New York, NY 10022   641 Fifth Ave Unit 30FNew York, NY 10022   \n",
       "4763      Manhattan, NY 10023    246 W End Ave Apt 6AManhattan, NY 10023   \n",
       "\n",
       "             LOCALITY      SUBLOCALITY  SUBLOCALITY_CODES  \n",
       "62    New York County         New York               11.0  \n",
       "81    New York County         New York               11.0  \n",
       "134          New York  New York County               12.0  \n",
       "178          New York  Richmond County               16.0  \n",
       "278   New York County         New York               11.0  \n",
       "...               ...              ...                ...  \n",
       "4509         New York     Bronx County               16.0  \n",
       "4553  New York County         New York               14.0  \n",
       "4597  New York County         New York               11.0  \n",
       "4648  New York County         New York               11.0  \n",
       "4763  New York County         New York               11.0  \n",
       "\n",
       "[79 rows x 10 columns]"
      ]
     },
     "execution_count": 24,
     "metadata": {},
     "output_type": "execute_result"
    }
   ],
   "source": [
    "# Check our imputed prices\n",
    "imp_data.iloc[price_0]\n",
    "\n",
    "# Save our data back to the dataframe\n",
    "for col in imp_data.columns:\n",
    "    df[col] = imp_data[col]\n",
    "\n",
    "df.iloc[price_0]"
   ]
  }
 ],
 "metadata": {
  "kernelspec": {
   "display_name": ".venv",
   "language": "python",
   "name": "python3"
  },
  "language_info": {
   "codemirror_mode": {
    "name": "ipython",
    "version": 3
   },
   "file_extension": ".py",
   "mimetype": "text/x-python",
   "name": "python",
   "nbconvert_exporter": "python",
   "pygments_lexer": "ipython3",
   "version": "3.9.6"
  }
 },
 "nbformat": 4,
 "nbformat_minor": 2
}
