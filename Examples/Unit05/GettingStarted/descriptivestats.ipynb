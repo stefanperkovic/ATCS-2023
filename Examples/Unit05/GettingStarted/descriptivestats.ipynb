{
 "cells": [
  {
   "cell_type": "markdown",
   "metadata": {},
   "source": [
    "# Descriptive Statistics\n",
    "\n",
    "Goal: Better understand our data through the lens of descriptive statistics.\n",
    "\n",
    "This includes viewing and understanding:\n",
    "* Measures of Central Tendency (Mean, Median, and Mode)\n",
    "* Measures of Spread (Range, Interquartile Range, Variance, Standard Deviation)"
   ]
  },
  {
   "cell_type": "markdown",
   "metadata": {},
   "source": [
    "## 1. Import Libraries"
   ]
  },
  {
   "cell_type": "code",
   "execution_count": 1,
   "metadata": {},
   "outputs": [],
   "source": [
    "import pandas as pd\n",
    "import matplotlib.pyplot as plt\n"
   ]
  },
  {
   "cell_type": "markdown",
   "metadata": {},
   "source": [
    "## 2. Load the Dataset"
   ]
  },
  {
   "cell_type": "code",
   "execution_count": 2,
   "metadata": {},
   "outputs": [
    {
     "name": "stdout",
     "output_type": "stream",
     "text": [
      "<class 'pandas.core.frame.DataFrame'>\n",
      "RangeIndex: 4801 entries, 0 to 4800\n",
      "Data columns (total 17 columns):\n",
      " #   Column                       Non-Null Count  Dtype  \n",
      "---  ------                       --------------  -----  \n",
      " 0   BROKERTITLE                  4801 non-null   object \n",
      " 1   TYPE                         4801 non-null   object \n",
      " 2   PRICE                        4801 non-null   int64  \n",
      " 3   BEDS                         4801 non-null   int64  \n",
      " 4   BATH                         4801 non-null   float64\n",
      " 5   PROPERTYSQFT                 4801 non-null   float64\n",
      " 6   ADDRESS                      4801 non-null   object \n",
      " 7   STATE                        4801 non-null   object \n",
      " 8   MAIN_ADDRESS                 4801 non-null   object \n",
      " 9   ADMINISTRATIVE_AREA_LEVEL_2  4801 non-null   object \n",
      " 10  LOCALITY                     4801 non-null   object \n",
      " 11  SUBLOCALITY                  4801 non-null   object \n",
      " 12  STREET_NAME                  4801 non-null   object \n",
      " 13  LONG_NAME                    4801 non-null   object \n",
      " 14  FORMATTED_ADDRESS            4801 non-null   object \n",
      " 15  LATITUDE                     4801 non-null   float64\n",
      " 16  LONGITUDE                    4801 non-null   float64\n",
      "dtypes: float64(4), int64(2), object(11)\n",
      "memory usage: 637.8+ KB\n"
     ]
    }
   ],
   "source": [
    "df = pd.read_csv(\"data/NY-House-Dataset.csv\")\n",
    "\n",
    "df.info()"
   ]
  },
  {
   "cell_type": "markdown",
   "metadata": {},
   "source": [
    "## 3. Measures of Central Tendency"
   ]
  },
  {
   "cell_type": "markdown",
   "metadata": {},
   "source": [
    "The mean and median only make sense on quantiative data"
   ]
  },
  {
   "cell_type": "markdown",
   "metadata": {},
   "source": [
    "### Mean"
   ]
  },
  {
   "cell_type": "code",
   "execution_count": 5,
   "metadata": {},
   "outputs": [
    {
     "data": {
      "text/plain": [
       "PRICE           2.356940e+06\n",
       "BEDS            3.356801e+00\n",
       "BATH            2.373861e+00\n",
       "PROPERTYSQFT    2.184208e+03\n",
       "LATITUDE        4.071423e+01\n",
       "LONGITUDE      -7.394160e+01\n",
       "dtype: float64"
      ]
     },
     "execution_count": 5,
     "metadata": {},
     "output_type": "execute_result"
    }
   ],
   "source": [
    "numeric = df.select_dtypes(\"number\")\n",
    "numeric.mean()"
   ]
  },
  {
   "cell_type": "code",
   "execution_count": 6,
   "metadata": {},
   "outputs": [
    {
     "data": {
      "text/plain": [
       "2356940.17100604"
      ]
     },
     "execution_count": 6,
     "metadata": {},
     "output_type": "execute_result"
    }
   ],
   "source": [
    "# Get the mean for a single collumn\n",
    "df[\"PRICE\"].mean()"
   ]
  },
  {
   "cell_type": "markdown",
   "metadata": {},
   "source": [
    "### Median"
   ]
  },
  {
   "cell_type": "code",
   "execution_count": 7,
   "metadata": {},
   "outputs": [
    {
     "data": {
      "text/plain": [
       "PRICE           825000.000000\n",
       "BEDS                 3.000000\n",
       "BATH                 2.000000\n",
       "PROPERTYSQFT      2184.207862\n",
       "LATITUDE            40.726749\n",
       "LONGITUDE          -73.949189\n",
       "dtype: float64"
      ]
     },
     "execution_count": 7,
     "metadata": {},
     "output_type": "execute_result"
    }
   ],
   "source": [
    "numeric.median()"
   ]
  },
  {
   "cell_type": "markdown",
   "metadata": {},
   "source": [
    "### Mode\n",
    "If there is more than 1 mode for a certain column, the remaining columns will be filled in with NaN (Not a Number)"
   ]
  },
  {
   "cell_type": "code",
   "execution_count": 8,
   "metadata": {},
   "outputs": [
    {
     "data": {
      "text/html": [
       "<div>\n",
       "<style scoped>\n",
       "    .dataframe tbody tr th:only-of-type {\n",
       "        vertical-align: middle;\n",
       "    }\n",
       "\n",
       "    .dataframe tbody tr th {\n",
       "        vertical-align: top;\n",
       "    }\n",
       "\n",
       "    .dataframe thead th {\n",
       "        text-align: right;\n",
       "    }\n",
       "</style>\n",
       "<table border=\"1\" class=\"dataframe\">\n",
       "  <thead>\n",
       "    <tr style=\"text-align: right;\">\n",
       "      <th></th>\n",
       "      <th>BROKERTITLE</th>\n",
       "      <th>TYPE</th>\n",
       "      <th>PRICE</th>\n",
       "      <th>BEDS</th>\n",
       "      <th>BATH</th>\n",
       "      <th>PROPERTYSQFT</th>\n",
       "      <th>ADDRESS</th>\n",
       "      <th>STATE</th>\n",
       "      <th>MAIN_ADDRESS</th>\n",
       "      <th>ADMINISTRATIVE_AREA_LEVEL_2</th>\n",
       "      <th>LOCALITY</th>\n",
       "      <th>SUBLOCALITY</th>\n",
       "      <th>STREET_NAME</th>\n",
       "      <th>LONG_NAME</th>\n",
       "      <th>FORMATTED_ADDRESS</th>\n",
       "      <th>LATITUDE</th>\n",
       "      <th>LONGITUDE</th>\n",
       "    </tr>\n",
       "  </thead>\n",
       "  <tbody>\n",
       "    <tr>\n",
       "      <th>0</th>\n",
       "      <td>Brokered by COMPASS</td>\n",
       "      <td>Co-op for sale</td>\n",
       "      <td>699000.0</td>\n",
       "      <td>3.0</td>\n",
       "      <td>2.0</td>\n",
       "      <td>2184.207862</td>\n",
       "      <td>2619 Shore Pkwy</td>\n",
       "      <td>Brooklyn, NY 11235</td>\n",
       "      <td>2619 Shore PkwyBrooklyn, NY 11223</td>\n",
       "      <td>United States</td>\n",
       "      <td>New York</td>\n",
       "      <td>New York</td>\n",
       "      <td>Manhattan</td>\n",
       "      <td>2</td>\n",
       "      <td>61-20 Grand Central Pkwy, Forest Hills, NY 113...</td>\n",
       "      <td>40.756476</td>\n",
       "      <td>-73.970927</td>\n",
       "    </tr>\n",
       "    <tr>\n",
       "      <th>1</th>\n",
       "      <td>NaN</td>\n",
       "      <td>NaN</td>\n",
       "      <td>NaN</td>\n",
       "      <td>NaN</td>\n",
       "      <td>NaN</td>\n",
       "      <td>NaN</td>\n",
       "      <td>856 Washington Ave Apt 6C</td>\n",
       "      <td>NaN</td>\n",
       "      <td>856 Washington Ave Apt 6CBrooklyn, NY 11238</td>\n",
       "      <td>NaN</td>\n",
       "      <td>NaN</td>\n",
       "      <td>NaN</td>\n",
       "      <td>NaN</td>\n",
       "      <td>NaN</td>\n",
       "      <td>NaN</td>\n",
       "      <td>NaN</td>\n",
       "      <td>-73.721201</td>\n",
       "    </tr>\n",
       "  </tbody>\n",
       "</table>\n",
       "</div>"
      ],
      "text/plain": [
       "           BROKERTITLE            TYPE     PRICE  BEDS  BATH  PROPERTYSQFT  \\\n",
       "0  Brokered by COMPASS  Co-op for sale  699000.0   3.0   2.0   2184.207862   \n",
       "1                  NaN             NaN       NaN   NaN   NaN           NaN   \n",
       "\n",
       "                     ADDRESS               STATE  \\\n",
       "0            2619 Shore Pkwy  Brooklyn, NY 11235   \n",
       "1  856 Washington Ave Apt 6C                 NaN   \n",
       "\n",
       "                                  MAIN_ADDRESS ADMINISTRATIVE_AREA_LEVEL_2  \\\n",
       "0            2619 Shore PkwyBrooklyn, NY 11223               United States   \n",
       "1  856 Washington Ave Apt 6CBrooklyn, NY 11238                         NaN   \n",
       "\n",
       "   LOCALITY SUBLOCALITY STREET_NAME LONG_NAME  \\\n",
       "0  New York    New York   Manhattan         2   \n",
       "1       NaN         NaN         NaN       NaN   \n",
       "\n",
       "                                   FORMATTED_ADDRESS   LATITUDE  LONGITUDE  \n",
       "0  61-20 Grand Central Pkwy, Forest Hills, NY 113...  40.756476 -73.970927  \n",
       "1                                                NaN        NaN -73.721201  "
      ]
     },
     "execution_count": 8,
     "metadata": {},
     "output_type": "execute_result"
    }
   ],
   "source": [
    "df.mode()"
   ]
  },
  {
   "cell_type": "markdown",
   "metadata": {},
   "source": [
    "## 4. Measures of Spread"
   ]
  },
  {
   "cell_type": "markdown",
   "metadata": {},
   "source": [
    "### Range"
   ]
  },
  {
   "cell_type": "code",
   "execution_count": 9,
   "metadata": {},
   "outputs": [
    {
     "data": {
      "text/plain": [
       "PRICE           2.147481e+09\n",
       "BEDS            4.900000e+01\n",
       "BATH            5.000000e+01\n",
       "PROPERTYSQFT    6.530500e+04\n",
       "LATITUDE        4.131833e-01\n",
       "LONGITUDE       5.505832e-01\n",
       "dtype: float64"
      ]
     },
     "execution_count": 9,
     "metadata": {},
     "output_type": "execute_result"
    }
   ],
   "source": [
    " "
   ]
  },
  {
   "cell_type": "markdown",
   "metadata": {},
   "source": [
    "### Quartiles\n",
    "\n",
    "The best way to work with quartiles is to visualize them"
   ]
  },
  {
   "cell_type": "markdown",
   "metadata": {},
   "source": [
    "#### *Creating a Boxplot*\n",
    "Box plots show us the min and max values, each quarter, the median, and any outliers."
   ]
  },
  {
   "cell_type": "code",
   "execution_count": 11,
   "metadata": {},
   "outputs": [
    {
     "data": {
      "image/png": "[encoded data removed]",
      "text/plain": [
       "<Figure size 640x480 with 1 Axes>"
      ]
     },
     "metadata": {},
     "output_type": "display_data"
    }
   ],
   "source": [
    "# Series of temp data\n",
    "test_grades = pd.Series([65, 70, 100, 92, 25, 83, 76, 82, 65, 96])\n",
    "\n",
    "\n",
    "# Create a boxplot\n",
    "plt.boxplot(test_grades)\n",
    "plt.title(\"Test Grades\")\n",
    "plt.xlabel(\"Test 1\")\n",
    "plt.ylabel(\"Percentage\")\n",
    "plt.show()"
   ]
  },
  {
   "cell_type": "markdown",
   "metadata": {},
   "source": [
    "### Variance"
   ]
  },
  {
   "cell_type": "code",
   "execution_count": 12,
   "metadata": {},
   "outputs": [
    {
     "data": {
      "text/plain": [
       "PRICE           9.831515e+14\n",
       "BEDS            6.772042e+00\n",
       "BATH            3.790660e+00\n",
       "PROPERTYSQFT    5.650799e+06\n",
       "LATITUDE        7.687005e-03\n",
       "LONGITUDE       1.021767e-02\n",
       "dtype: float64"
      ]
     },
     "execution_count": 12,
     "metadata": {},
     "output_type": "execute_result"
    }
   ],
   "source": [
    "# Get the variance of all numeric columns\n",
    "numeric.var()"
   ]
  },
  {
   "cell_type": "markdown",
   "metadata": {},
   "source": [
    "### Standard Deviation"
   ]
  },
  {
   "cell_type": "code",
   "execution_count": 13,
   "metadata": {},
   "outputs": [
    {
     "data": {
      "text/plain": [
       "PRICE           3.135525e+07\n",
       "BEDS            2.602315e+00\n",
       "BATH            1.946962e+00\n",
       "PROPERTYSQFT    2.377141e+03\n",
       "LATITUDE        8.767557e-02\n",
       "LONGITUDE       1.010825e-01\n",
       "dtype: float64"
      ]
     },
     "execution_count": 13,
     "metadata": {},
     "output_type": "execute_result"
    }
   ],
   "source": [
    "numeric.std()"
   ]
  },
  {
   "cell_type": "markdown",
   "metadata": {},
   "source": [
    "## 5. Summary Statistics\n",
    "The faster way to do all of this"
   ]
  },
  {
   "cell_type": "code",
   "execution_count": 20,
   "metadata": {},
   "outputs": [
    {
     "data": {
      "text/html": [
       "<div>\n",
       "<style scoped>\n",
       "    .dataframe tbody tr th:only-of-type {\n",
       "        vertical-align: middle;\n",
       "    }\n",
       "\n",
       "    .dataframe tbody tr th {\n",
       "        vertical-align: top;\n",
       "    }\n",
       "\n",
       "    .dataframe thead th {\n",
       "        text-align: right;\n",
       "    }\n",
       "</style>\n",
       "<table border=\"1\" class=\"dataframe\">\n",
       "  <thead>\n",
       "    <tr style=\"text-align: right;\">\n",
       "      <th></th>\n",
       "      <th>PRICE</th>\n",
       "      <th>BEDS</th>\n",
       "      <th>BATH</th>\n",
       "      <th>PROPERTYSQFT</th>\n",
       "      <th>LATITUDE</th>\n",
       "      <th>LONGITUDE</th>\n",
       "    </tr>\n",
       "  </thead>\n",
       "  <tbody>\n",
       "    <tr>\n",
       "      <th>min</th>\n",
       "      <td>2.494000e+03</td>\n",
       "      <td>1.0</td>\n",
       "      <td>0.0</td>\n",
       "      <td>230.0</td>\n",
       "      <td>40.499546</td>\n",
       "      <td>-74.253033</td>\n",
       "    </tr>\n",
       "    <tr>\n",
       "      <th>max</th>\n",
       "      <td>2.147484e+09</td>\n",
       "      <td>50.0</td>\n",
       "      <td>50.0</td>\n",
       "      <td>65535.0</td>\n",
       "      <td>40.912729</td>\n",
       "      <td>-73.702450</td>\n",
       "    </tr>\n",
       "  </tbody>\n",
       "</table>\n",
       "</div>"
      ],
      "text/plain": [
       "            PRICE  BEDS  BATH  PROPERTYSQFT   LATITUDE  LONGITUDE\n",
       "min  2.494000e+03   1.0   0.0         230.0  40.499546 -74.253033\n",
       "max  2.147484e+09  50.0  50.0       65535.0  40.912729 -73.702450"
      ]
     },
     "execution_count": 20,
     "metadata": {},
     "output_type": "execute_result"
    }
   ],
   "source": [
    "df.describe()\n",
    "\n",
    "summary_stats = df.describe()\n",
    "summary_stats.loc[[\"min\", \"max\"], :]"
   ]
  },
  {
   "cell_type": "markdown",
   "metadata": {},
   "source": [
    "## 6. Histograms"
   ]
  },
  {
   "cell_type": "code",
   "execution_count": 24,
   "metadata": {},
   "outputs": [
    {
     "data": {
      "image/png": "[encoded data removed]",
      "text/plain": [
       "<Figure size 1000x800 with 4 Axes>"
      ]
     },
     "metadata": {},
     "output_type": "display_data"
    }
   ],
   "source": [
    "# For every numeric column\n",
    "# df.hist(figsize=(10, 8))\n",
    "\n",
    "# FOr only certain colmuns\n",
    "df[[\"PRICE\", \"BEDS\", \"BATH\", \"PROPERTYSQFT\"]].hist(figsize=(10, 8), bins=50)\n",
    "\n",
    "plt.suptitle(\"Histograms of Numeric Columns\")\n",
    "\n",
    "plt.show()"
   ]
  },
  {
   "cell_type": "markdown",
   "metadata": {},
   "source": [
    "# Homework"
   ]
  },
  {
   "cell_type": "markdown",
   "metadata": {},
   "source": [
    "1. Get all the descriptive statistics for the PRICE column when grouped by\n",
    "SUBLOCALITY. You will have to use the groupby() and describe() functions we learned"
   ]
  },
  {
   "cell_type": "code",
   "execution_count": 31,
   "metadata": {},
   "outputs": [
    {
     "data": {
      "text/html": [
       "<div>\n",
       "<style scoped>\n",
       "    .dataframe tbody tr th:only-of-type {\n",
       "        vertical-align: middle;\n",
       "    }\n",
       "\n",
       "    .dataframe tbody tr th {\n",
       "        vertical-align: top;\n",
       "    }\n",
       "\n",
       "    .dataframe thead tr th {\n",
       "        text-align: left;\n",
       "    }\n",
       "\n",
       "    .dataframe thead tr:last-of-type th {\n",
       "        text-align: right;\n",
       "    }\n",
       "</style>\n",
       "<table border=\"1\" class=\"dataframe\">\n",
       "  <thead>\n",
       "    <tr>\n",
       "      <th></th>\n",
       "      <th colspan=\"8\" halign=\"left\">PRICE</th>\n",
       "    </tr>\n",
       "    <tr>\n",
       "      <th></th>\n",
       "      <th>count</th>\n",
       "      <th>mean</th>\n",
       "      <th>std</th>\n",
       "      <th>min</th>\n",
       "      <th>25%</th>\n",
       "      <th>50%</th>\n",
       "      <th>75%</th>\n",
       "      <th>max</th>\n",
       "    </tr>\n",
       "    <tr>\n",
       "      <th>SUBLOCALITY</th>\n",
       "      <th></th>\n",
       "      <th></th>\n",
       "      <th></th>\n",
       "      <th></th>\n",
       "      <th></th>\n",
       "      <th></th>\n",
       "      <th></th>\n",
       "      <th></th>\n",
       "    </tr>\n",
       "  </thead>\n",
       "  <tbody>\n",
       "    <tr>\n",
       "      <th>Bronx County</th>\n",
       "      <td>307.0</td>\n",
       "      <td>1.020866e+06</td>\n",
       "      <td>1.195025e+06</td>\n",
       "      <td>69900.0</td>\n",
       "      <td>584000.0</td>\n",
       "      <td>795000.0</td>\n",
       "      <td>1037500.0</td>\n",
       "      <td>1.400000e+07</td>\n",
       "    </tr>\n",
       "    <tr>\n",
       "      <th>Brooklyn</th>\n",
       "      <td>464.0</td>\n",
       "      <td>8.646435e+05</td>\n",
       "      <td>1.232096e+06</td>\n",
       "      <td>5800.0</td>\n",
       "      <td>329000.0</td>\n",
       "      <td>554000.0</td>\n",
       "      <td>908000.0</td>\n",
       "      <td>1.499500e+07</td>\n",
       "    </tr>\n",
       "    <tr>\n",
       "      <th>Brooklyn Heights</th>\n",
       "      <td>1.0</td>\n",
       "      <td>6.250000e+05</td>\n",
       "      <td>NaN</td>\n",
       "      <td>625000.0</td>\n",
       "      <td>625000.0</td>\n",
       "      <td>625000.0</td>\n",
       "      <td>625000.0</td>\n",
       "      <td>6.250000e+05</td>\n",
       "    </tr>\n",
       "    <tr>\n",
       "      <th>Coney Island</th>\n",
       "      <td>3.0</td>\n",
       "      <td>5.113333e+05</td>\n",
       "      <td>9.481737e+04</td>\n",
       "      <td>429000.0</td>\n",
       "      <td>459500.0</td>\n",
       "      <td>490000.0</td>\n",
       "      <td>552500.0</td>\n",
       "      <td>6.150000e+05</td>\n",
       "    </tr>\n",
       "    <tr>\n",
       "      <th>Dumbo</th>\n",
       "      <td>1.0</td>\n",
       "      <td>5.799000e+06</td>\n",
       "      <td>NaN</td>\n",
       "      <td>5799000.0</td>\n",
       "      <td>5799000.0</td>\n",
       "      <td>5799000.0</td>\n",
       "      <td>5799000.0</td>\n",
       "      <td>5.799000e+06</td>\n",
       "    </tr>\n",
       "    <tr>\n",
       "      <th>East Bronx</th>\n",
       "      <td>1.0</td>\n",
       "      <td>2.650000e+05</td>\n",
       "      <td>NaN</td>\n",
       "      <td>265000.0</td>\n",
       "      <td>265000.0</td>\n",
       "      <td>265000.0</td>\n",
       "      <td>265000.0</td>\n",
       "      <td>2.650000e+05</td>\n",
       "    </tr>\n",
       "    <tr>\n",
       "      <th>Flushing</th>\n",
       "      <td>4.0</td>\n",
       "      <td>4.760000e+05</td>\n",
       "      <td>1.794120e+05</td>\n",
       "      <td>299000.0</td>\n",
       "      <td>350750.0</td>\n",
       "      <td>453000.0</td>\n",
       "      <td>578250.0</td>\n",
       "      <td>6.990000e+05</td>\n",
       "    </tr>\n",
       "    <tr>\n",
       "      <th>Fort Hamilton</th>\n",
       "      <td>1.0</td>\n",
       "      <td>5.990000e+05</td>\n",
       "      <td>NaN</td>\n",
       "      <td>599000.0</td>\n",
       "      <td>599000.0</td>\n",
       "      <td>599000.0</td>\n",
       "      <td>599000.0</td>\n",
       "      <td>5.990000e+05</td>\n",
       "    </tr>\n",
       "    <tr>\n",
       "      <th>Jackson Heights</th>\n",
       "      <td>1.0</td>\n",
       "      <td>9.850000e+05</td>\n",
       "      <td>NaN</td>\n",
       "      <td>985000.0</td>\n",
       "      <td>985000.0</td>\n",
       "      <td>985000.0</td>\n",
       "      <td>985000.0</td>\n",
       "      <td>9.850000e+05</td>\n",
       "    </tr>\n",
       "    <tr>\n",
       "      <th>Kings County</th>\n",
       "      <td>727.0</td>\n",
       "      <td>1.795465e+06</td>\n",
       "      <td>2.169195e+06</td>\n",
       "      <td>199999.0</td>\n",
       "      <td>799000.0</td>\n",
       "      <td>1249000.0</td>\n",
       "      <td>1999499.5</td>\n",
       "      <td>3.150000e+07</td>\n",
       "    </tr>\n",
       "    <tr>\n",
       "      <th>Manhattan</th>\n",
       "      <td>21.0</td>\n",
       "      <td>3.609905e+06</td>\n",
       "      <td>3.928910e+06</td>\n",
       "      <td>315000.0</td>\n",
       "      <td>1050000.0</td>\n",
       "      <td>2795000.0</td>\n",
       "      <td>3995000.0</td>\n",
       "      <td>1.699500e+07</td>\n",
       "    </tr>\n",
       "    <tr>\n",
       "      <th>New York</th>\n",
       "      <td>1016.0</td>\n",
       "      <td>2.534033e+06</td>\n",
       "      <td>4.940018e+06</td>\n",
       "      <td>2494.0</td>\n",
       "      <td>600000.0</td>\n",
       "      <td>1025000.0</td>\n",
       "      <td>2380000.0</td>\n",
       "      <td>6.000000e+07</td>\n",
       "    </tr>\n",
       "    <tr>\n",
       "      <th>New York County</th>\n",
       "      <td>286.0</td>\n",
       "      <td>1.019120e+07</td>\n",
       "      <td>1.477885e+07</td>\n",
       "      <td>69000.0</td>\n",
       "      <td>2500000.0</td>\n",
       "      <td>6497500.0</td>\n",
       "      <td>12995000.0</td>\n",
       "      <td>1.950000e+08</td>\n",
       "    </tr>\n",
       "    <tr>\n",
       "      <th>Queens</th>\n",
       "      <td>555.0</td>\n",
       "      <td>4.437331e+05</td>\n",
       "      <td>2.611871e+05</td>\n",
       "      <td>100000.0</td>\n",
       "      <td>266500.0</td>\n",
       "      <td>375000.0</td>\n",
       "      <td>568500.0</td>\n",
       "      <td>1.850000e+06</td>\n",
       "    </tr>\n",
       "    <tr>\n",
       "      <th>Queens County</th>\n",
       "      <td>684.0</td>\n",
       "      <td>1.135774e+06</td>\n",
       "      <td>9.513956e+05</td>\n",
       "      <td>160000.0</td>\n",
       "      <td>699000.0</td>\n",
       "      <td>948500.0</td>\n",
       "      <td>1302222.0</td>\n",
       "      <td>1.500000e+07</td>\n",
       "    </tr>\n",
       "    <tr>\n",
       "      <th>Rego Park</th>\n",
       "      <td>1.0</td>\n",
       "      <td>2.150000e+05</td>\n",
       "      <td>NaN</td>\n",
       "      <td>215000.0</td>\n",
       "      <td>215000.0</td>\n",
       "      <td>215000.0</td>\n",
       "      <td>215000.0</td>\n",
       "      <td>2.150000e+05</td>\n",
       "    </tr>\n",
       "    <tr>\n",
       "      <th>Richmond County</th>\n",
       "      <td>480.0</td>\n",
       "      <td>5.427598e+06</td>\n",
       "      <td>9.798090e+07</td>\n",
       "      <td>90000.0</td>\n",
       "      <td>599000.0</td>\n",
       "      <td>750000.0</td>\n",
       "      <td>999000.0</td>\n",
       "      <td>2.147484e+09</td>\n",
       "    </tr>\n",
       "    <tr>\n",
       "      <th>Riverdale</th>\n",
       "      <td>4.0</td>\n",
       "      <td>3.470000e+05</td>\n",
       "      <td>9.780252e+04</td>\n",
       "      <td>235000.0</td>\n",
       "      <td>280000.0</td>\n",
       "      <td>362000.0</td>\n",
       "      <td>429000.0</td>\n",
       "      <td>4.290000e+05</td>\n",
       "    </tr>\n",
       "    <tr>\n",
       "      <th>Snyder Avenue</th>\n",
       "      <td>1.0</td>\n",
       "      <td>6.500000e+05</td>\n",
       "      <td>NaN</td>\n",
       "      <td>650000.0</td>\n",
       "      <td>650000.0</td>\n",
       "      <td>650000.0</td>\n",
       "      <td>650000.0</td>\n",
       "      <td>6.500000e+05</td>\n",
       "    </tr>\n",
       "    <tr>\n",
       "      <th>Staten Island</th>\n",
       "      <td>59.0</td>\n",
       "      <td>4.475819e+05</td>\n",
       "      <td>3.297199e+05</td>\n",
       "      <td>109500.0</td>\n",
       "      <td>249999.0</td>\n",
       "      <td>350000.0</td>\n",
       "      <td>452500.0</td>\n",
       "      <td>1.799000e+06</td>\n",
       "    </tr>\n",
       "    <tr>\n",
       "      <th>The Bronx</th>\n",
       "      <td>184.0</td>\n",
       "      <td>3.366162e+05</td>\n",
       "      <td>2.778350e+05</td>\n",
       "      <td>49500.0</td>\n",
       "      <td>173750.0</td>\n",
       "      <td>279900.0</td>\n",
       "      <td>367475.0</td>\n",
       "      <td>1.995000e+06</td>\n",
       "    </tr>\n",
       "  </tbody>\n",
       "</table>\n",
       "</div>"
      ],
      "text/plain": [
       "                   PRICE                                                    \\\n",
       "                   count          mean           std        min        25%   \n",
       "SUBLOCALITY                                                                  \n",
       "Bronx County       307.0  1.020866e+06  1.195025e+06    69900.0   584000.0   \n",
       "Brooklyn           464.0  8.646435e+05  1.232096e+06     5800.0   329000.0   \n",
       "Brooklyn Heights     1.0  6.250000e+05           NaN   625000.0   625000.0   \n",
       "Coney Island         3.0  5.113333e+05  9.481737e+04   429000.0   459500.0   \n",
       "Dumbo                1.0  5.799000e+06           NaN  5799000.0  5799000.0   \n",
       "East Bronx           1.0  2.650000e+05           NaN   265000.0   265000.0   \n",
       "Flushing             4.0  4.760000e+05  1.794120e+05   299000.0   350750.0   \n",
       "Fort Hamilton        1.0  5.990000e+05           NaN   599000.0   599000.0   \n",
       "Jackson Heights      1.0  9.850000e+05           NaN   985000.0   985000.0   \n",
       "Kings County       727.0  1.795465e+06  2.169195e+06   199999.0   799000.0   \n",
       "Manhattan           21.0  3.609905e+06  3.928910e+06   315000.0  1050000.0   \n",
       "New York          1016.0  2.534033e+06  4.940018e+06     2494.0   600000.0   \n",
       "New York County    286.0  1.019120e+07  1.477885e+07    69000.0  2500000.0   \n",
       "Queens             555.0  4.437331e+05  2.611871e+05   100000.0   266500.0   \n",
       "Queens County      684.0  1.135774e+06  9.513956e+05   160000.0   699000.0   \n",
       "Rego Park            1.0  2.150000e+05           NaN   215000.0   215000.0   \n",
       "Richmond County    480.0  5.427598e+06  9.798090e+07    90000.0   599000.0   \n",
       "Riverdale            4.0  3.470000e+05  9.780252e+04   235000.0   280000.0   \n",
       "Snyder Avenue        1.0  6.500000e+05           NaN   650000.0   650000.0   \n",
       "Staten Island       59.0  4.475819e+05  3.297199e+05   109500.0   249999.0   \n",
       "The Bronx          184.0  3.366162e+05  2.778350e+05    49500.0   173750.0   \n",
       "\n",
       "                                                       \n",
       "                        50%         75%           max  \n",
       "SUBLOCALITY                                            \n",
       "Bronx County       795000.0   1037500.0  1.400000e+07  \n",
       "Brooklyn           554000.0    908000.0  1.499500e+07  \n",
       "Brooklyn Heights   625000.0    625000.0  6.250000e+05  \n",
       "Coney Island       490000.0    552500.0  6.150000e+05  \n",
       "Dumbo             5799000.0   5799000.0  5.799000e+06  \n",
       "East Bronx         265000.0    265000.0  2.650000e+05  \n",
       "Flushing           453000.0    578250.0  6.990000e+05  \n",
       "Fort Hamilton      599000.0    599000.0  5.990000e+05  \n",
       "Jackson Heights    985000.0    985000.0  9.850000e+05  \n",
       "Kings County      1249000.0   1999499.5  3.150000e+07  \n",
       "Manhattan         2795000.0   3995000.0  1.699500e+07  \n",
       "New York          1025000.0   2380000.0  6.000000e+07  \n",
       "New York County   6497500.0  12995000.0  1.950000e+08  \n",
       "Queens             375000.0    568500.0  1.850000e+06  \n",
       "Queens County      948500.0   1302222.0  1.500000e+07  \n",
       "Rego Park          215000.0    215000.0  2.150000e+05  \n",
       "Richmond County    750000.0    999000.0  2.147484e+09  \n",
       "Riverdale          362000.0    429000.0  4.290000e+05  \n",
       "Snyder Avenue      650000.0    650000.0  6.500000e+05  \n",
       "Staten Island      350000.0    452500.0  1.799000e+06  \n",
       "The Bronx          279900.0    367475.0  1.995000e+06  "
      ]
     },
     "execution_count": 31,
     "metadata": {},
     "output_type": "execute_result"
    }
   ],
   "source": [
    "df = pd.read_csv(\"data/NY-House-Dataset.csv\")\n",
    "df.groupby(\"SUBLOCALITY\")[[\"PRICE\"]].describe()"
   ]
  },
  {
   "cell_type": "markdown",
   "metadata": {},
   "source": [
    "2. Get all rows where the SUBLOCALITY is equal to The Bronx and save it into a new\n",
    "dataframe named bronx_prop. You will use this dataframe for the remaining questions"
   ]
  },
  {
   "cell_type": "code",
   "execution_count": 34,
   "metadata": {},
   "outputs": [
    {
     "data": {
      "text/html": [
       "<div>\n",
       "<style scoped>\n",
       "    .dataframe tbody tr th:only-of-type {\n",
       "        vertical-align: middle;\n",
       "    }\n",
       "\n",
       "    .dataframe tbody tr th {\n",
       "        vertical-align: top;\n",
       "    }\n",
       "\n",
       "    .dataframe thead th {\n",
       "        text-align: right;\n",
       "    }\n",
       "</style>\n",
       "<table border=\"1\" class=\"dataframe\">\n",
       "  <thead>\n",
       "    <tr style=\"text-align: right;\">\n",
       "      <th></th>\n",
       "      <th>BROKERTITLE</th>\n",
       "      <th>TYPE</th>\n",
       "      <th>PRICE</th>\n",
       "      <th>BEDS</th>\n",
       "      <th>BATH</th>\n",
       "      <th>PROPERTYSQFT</th>\n",
       "      <th>ADDRESS</th>\n",
       "      <th>STATE</th>\n",
       "      <th>MAIN_ADDRESS</th>\n",
       "      <th>ADMINISTRATIVE_AREA_LEVEL_2</th>\n",
       "      <th>LOCALITY</th>\n",
       "      <th>SUBLOCALITY</th>\n",
       "      <th>STREET_NAME</th>\n",
       "      <th>LONG_NAME</th>\n",
       "      <th>FORMATTED_ADDRESS</th>\n",
       "      <th>LATITUDE</th>\n",
       "      <th>LONGITUDE</th>\n",
       "    </tr>\n",
       "  </thead>\n",
       "  <tbody>\n",
       "    <tr>\n",
       "      <th>10</th>\n",
       "      <td>Brokered by Engel &amp; Volkers Americas</td>\n",
       "      <td>Co-op for sale</td>\n",
       "      <td>375000</td>\n",
       "      <td>2</td>\n",
       "      <td>1.0</td>\n",
       "      <td>850.000000</td>\n",
       "      <td>800 Grand Concourse Apt 2JS</td>\n",
       "      <td>Bronx, NY 10451</td>\n",
       "      <td>800 Grand Concourse Apt 2JSBronx, NY 10451</td>\n",
       "      <td>New York</td>\n",
       "      <td>Bronx County</td>\n",
       "      <td>The Bronx</td>\n",
       "      <td>Concourse Village</td>\n",
       "      <td>800</td>\n",
       "      <td>800 Grand Concourse #2j, Bronx, NY 10451, USA</td>\n",
       "      <td>40.824870</td>\n",
       "      <td>-73.922983</td>\n",
       "    </tr>\n",
       "    <tr>\n",
       "      <th>18</th>\n",
       "      <td>Brokered by Coldwell Banker Realty</td>\n",
       "      <td>Co-op for sale</td>\n",
       "      <td>350000</td>\n",
       "      <td>1</td>\n",
       "      <td>1.0</td>\n",
       "      <td>700.000000</td>\n",
       "      <td>5800 Arlington Ave Apt 21A</td>\n",
       "      <td>Bronx, NY 10471</td>\n",
       "      <td>5800 Arlington Ave Apt 21ABronx, NY 10471</td>\n",
       "      <td>New York</td>\n",
       "      <td>Bronx County</td>\n",
       "      <td>The Bronx</td>\n",
       "      <td>North Riverdale</td>\n",
       "      <td>5800</td>\n",
       "      <td>5800 Arlington Ave Apt 21s, Bronx, NY 10471, USA</td>\n",
       "      <td>40.907370</td>\n",
       "      <td>-73.906558</td>\n",
       "    </tr>\n",
       "    <tr>\n",
       "      <th>43</th>\n",
       "      <td>Brokered by Brown Harris Stevens</td>\n",
       "      <td>Co-op for sale</td>\n",
       "      <td>199900</td>\n",
       "      <td>1</td>\n",
       "      <td>1.0</td>\n",
       "      <td>2184.207862</td>\n",
       "      <td>828 Gerard Ave Apt 5F</td>\n",
       "      <td>Bronx, NY 10451</td>\n",
       "      <td>828 Gerard Ave Apt 5FBronx, NY 10451</td>\n",
       "      <td>New York</td>\n",
       "      <td>Bronx County</td>\n",
       "      <td>The Bronx</td>\n",
       "      <td>Concourse</td>\n",
       "      <td>828</td>\n",
       "      <td>828 Gerard Ave #5f, Bronx, NY 10451, USA</td>\n",
       "      <td>40.826035</td>\n",
       "      <td>-73.925663</td>\n",
       "    </tr>\n",
       "    <tr>\n",
       "      <th>96</th>\n",
       "      <td>Brokered by Douglas Elliman - 3544 Johnson Ave</td>\n",
       "      <td>Co-op for sale</td>\n",
       "      <td>1295000</td>\n",
       "      <td>4</td>\n",
       "      <td>2.0</td>\n",
       "      <td>1995.000000</td>\n",
       "      <td>2501 Palisade Ave Apt H2</td>\n",
       "      <td>Bronx, NY 10463</td>\n",
       "      <td>2501 Palisade Ave Apt H2Bronx, NY 10463</td>\n",
       "      <td>New York</td>\n",
       "      <td>Bronx County</td>\n",
       "      <td>The Bronx</td>\n",
       "      <td>Spuyten Duyvil</td>\n",
       "      <td>2501</td>\n",
       "      <td>2501 Palisade Ave #2, Bronx, NY 10463, USA</td>\n",
       "      <td>40.880987</td>\n",
       "      <td>-73.922434</td>\n",
       "    </tr>\n",
       "    <tr>\n",
       "      <th>146</th>\n",
       "      <td>Brokered by RE MAX Boutique Realty</td>\n",
       "      <td>Co-op for sale</td>\n",
       "      <td>90000</td>\n",
       "      <td>1</td>\n",
       "      <td>1.0</td>\n",
       "      <td>450.000000</td>\n",
       "      <td>1383 Plimpton Ave Apt 1C</td>\n",
       "      <td>Bronx, NY 10452</td>\n",
       "      <td>1383 Plimpton Ave Apt 1CBronx, NY 10452</td>\n",
       "      <td>New York</td>\n",
       "      <td>Bronx County</td>\n",
       "      <td>The Bronx</td>\n",
       "      <td>Highbridge</td>\n",
       "      <td>1383</td>\n",
       "      <td>1383 Plimpton Ave #1c, Bronx, NY 10452, USA</td>\n",
       "      <td>40.842371</td>\n",
       "      <td>-73.923444</td>\n",
       "    </tr>\n",
       "    <tr>\n",
       "      <th>...</th>\n",
       "      <td>...</td>\n",
       "      <td>...</td>\n",
       "      <td>...</td>\n",
       "      <td>...</td>\n",
       "      <td>...</td>\n",
       "      <td>...</td>\n",
       "      <td>...</td>\n",
       "      <td>...</td>\n",
       "      <td>...</td>\n",
       "      <td>...</td>\n",
       "      <td>...</td>\n",
       "      <td>...</td>\n",
       "      <td>...</td>\n",
       "      <td>...</td>\n",
       "      <td>...</td>\n",
       "      <td>...</td>\n",
       "      <td>...</td>\n",
       "    </tr>\n",
       "    <tr>\n",
       "      <th>4591</th>\n",
       "      <td>Brokered by Corcoran Westside Columbus</td>\n",
       "      <td>Co-op for sale</td>\n",
       "      <td>280000</td>\n",
       "      <td>2</td>\n",
       "      <td>1.0</td>\n",
       "      <td>1050.000000</td>\n",
       "      <td>3000 Valentine Ave Apt 3B</td>\n",
       "      <td>Bronx, NY 10458</td>\n",
       "      <td>3000 Valentine Ave Apt 3BBronx, NY 10458</td>\n",
       "      <td>New York</td>\n",
       "      <td>Bronx County</td>\n",
       "      <td>The Bronx</td>\n",
       "      <td>West Bronx</td>\n",
       "      <td>3000</td>\n",
       "      <td>3000 Valentine Ave #3b, Bronx, NY 10458, USA</td>\n",
       "      <td>40.872414</td>\n",
       "      <td>-73.885223</td>\n",
       "    </tr>\n",
       "    <tr>\n",
       "      <th>4662</th>\n",
       "      <td>Brokered by COMPASS</td>\n",
       "      <td>Co-op for sale</td>\n",
       "      <td>375000</td>\n",
       "      <td>2</td>\n",
       "      <td>1.0</td>\n",
       "      <td>2184.207862</td>\n",
       "      <td>5900 Arlington Ave Apt 10H</td>\n",
       "      <td>Bronx, NY 10471</td>\n",
       "      <td>5900 Arlington Ave Apt 10HBronx, NY 10471</td>\n",
       "      <td>New York</td>\n",
       "      <td>Bronx County</td>\n",
       "      <td>The Bronx</td>\n",
       "      <td>North Riverdale</td>\n",
       "      <td>5900</td>\n",
       "      <td>5900 Arlington Ave #10h, Bronx, NY 10471, USA</td>\n",
       "      <td>40.909252</td>\n",
       "      <td>-73.905421</td>\n",
       "    </tr>\n",
       "    <tr>\n",
       "      <th>4692</th>\n",
       "      <td>Brokered by Mp Power Realty</td>\n",
       "      <td>Co-op for sale</td>\n",
       "      <td>167999</td>\n",
       "      <td>1</td>\n",
       "      <td>1.0</td>\n",
       "      <td>2184.207862</td>\n",
       "      <td>3121 Middletown Rd Apt 6B</td>\n",
       "      <td>Bronx, NY 10461</td>\n",
       "      <td>3121 Middletown Rd Apt 6BBronx, NY 10461</td>\n",
       "      <td>New York</td>\n",
       "      <td>Bronx County</td>\n",
       "      <td>The Bronx</td>\n",
       "      <td>Pelham Bay</td>\n",
       "      <td>3121</td>\n",
       "      <td>3121 Middletown Rd #6b, Bronx, NY 10461, USA</td>\n",
       "      <td>40.845596</td>\n",
       "      <td>-73.826422</td>\n",
       "    </tr>\n",
       "    <tr>\n",
       "      <th>4731</th>\n",
       "      <td>Brokered by Brown Harris Stevens</td>\n",
       "      <td>Co-op for sale</td>\n",
       "      <td>309000</td>\n",
       "      <td>2</td>\n",
       "      <td>1.0</td>\n",
       "      <td>2184.207862</td>\n",
       "      <td>3935 Blackstone Ave Apt 3F</td>\n",
       "      <td>Bronx, NY 10471</td>\n",
       "      <td>3935 Blackstone Ave Apt 3FBronx, NY 10471</td>\n",
       "      <td>New York</td>\n",
       "      <td>Bronx County</td>\n",
       "      <td>The Bronx</td>\n",
       "      <td>Riverdale</td>\n",
       "      <td>3935</td>\n",
       "      <td>3935 Blackstone Ave #3f, Bronx, NY 10471, USA</td>\n",
       "      <td>40.890384</td>\n",
       "      <td>-73.911788</td>\n",
       "    </tr>\n",
       "    <tr>\n",
       "      <th>4732</th>\n",
       "      <td>Brokered by OneKey MLS LLC - Foxworth Realty, ...</td>\n",
       "      <td>Co-op for sale</td>\n",
       "      <td>295500</td>\n",
       "      <td>1</td>\n",
       "      <td>1.0</td>\n",
       "      <td>2184.207862</td>\n",
       "      <td>3015 Riverdale Ave Apt 2A</td>\n",
       "      <td>New York, NY 10463</td>\n",
       "      <td>3015 Riverdale Ave Apt 2ANew York, NY 10463</td>\n",
       "      <td>New York</td>\n",
       "      <td>Bronx County</td>\n",
       "      <td>The Bronx</td>\n",
       "      <td>Spuyten Duyvil</td>\n",
       "      <td>3015</td>\n",
       "      <td>3015 Riverdale Ave #2a, Bronx, NY 10463, USA</td>\n",
       "      <td>40.880930</td>\n",
       "      <td>-73.910749</td>\n",
       "    </tr>\n",
       "  </tbody>\n",
       "</table>\n",
       "<p>184 rows × 17 columns</p>\n",
       "</div>"
      ],
      "text/plain": [
       "                                            BROKERTITLE            TYPE  \\\n",
       "10                 Brokered by Engel & Volkers Americas  Co-op for sale   \n",
       "18                   Brokered by Coldwell Banker Realty  Co-op for sale   \n",
       "43                     Brokered by Brown Harris Stevens  Co-op for sale   \n",
       "96       Brokered by Douglas Elliman - 3544 Johnson Ave  Co-op for sale   \n",
       "146                  Brokered by RE MAX Boutique Realty  Co-op for sale   \n",
       "...                                                 ...             ...   \n",
       "4591             Brokered by Corcoran Westside Columbus  Co-op for sale   \n",
       "4662                                Brokered by COMPASS  Co-op for sale   \n",
       "4692                        Brokered by Mp Power Realty  Co-op for sale   \n",
       "4731                   Brokered by Brown Harris Stevens  Co-op for sale   \n",
       "4732  Brokered by OneKey MLS LLC - Foxworth Realty, ...  Co-op for sale   \n",
       "\n",
       "        PRICE  BEDS  BATH  PROPERTYSQFT                      ADDRESS  \\\n",
       "10     375000     2   1.0    850.000000  800 Grand Concourse Apt 2JS   \n",
       "18     350000     1   1.0    700.000000   5800 Arlington Ave Apt 21A   \n",
       "43     199900     1   1.0   2184.207862        828 Gerard Ave Apt 5F   \n",
       "96    1295000     4   2.0   1995.000000     2501 Palisade Ave Apt H2   \n",
       "146     90000     1   1.0    450.000000     1383 Plimpton Ave Apt 1C   \n",
       "...       ...   ...   ...           ...                          ...   \n",
       "4591   280000     2   1.0   1050.000000    3000 Valentine Ave Apt 3B   \n",
       "4662   375000     2   1.0   2184.207862   5900 Arlington Ave Apt 10H   \n",
       "4692   167999     1   1.0   2184.207862    3121 Middletown Rd Apt 6B   \n",
       "4731   309000     2   1.0   2184.207862   3935 Blackstone Ave Apt 3F   \n",
       "4732   295500     1   1.0   2184.207862    3015 Riverdale Ave Apt 2A   \n",
       "\n",
       "                   STATE                                 MAIN_ADDRESS  \\\n",
       "10       Bronx, NY 10451   800 Grand Concourse Apt 2JSBronx, NY 10451   \n",
       "18       Bronx, NY 10471    5800 Arlington Ave Apt 21ABronx, NY 10471   \n",
       "43       Bronx, NY 10451         828 Gerard Ave Apt 5FBronx, NY 10451   \n",
       "96       Bronx, NY 10463      2501 Palisade Ave Apt H2Bronx, NY 10463   \n",
       "146      Bronx, NY 10452      1383 Plimpton Ave Apt 1CBronx, NY 10452   \n",
       "...                  ...                                          ...   \n",
       "4591     Bronx, NY 10458     3000 Valentine Ave Apt 3BBronx, NY 10458   \n",
       "4662     Bronx, NY 10471    5900 Arlington Ave Apt 10HBronx, NY 10471   \n",
       "4692     Bronx, NY 10461     3121 Middletown Rd Apt 6BBronx, NY 10461   \n",
       "4731     Bronx, NY 10471    3935 Blackstone Ave Apt 3FBronx, NY 10471   \n",
       "4732  New York, NY 10463  3015 Riverdale Ave Apt 2ANew York, NY 10463   \n",
       "\n",
       "     ADMINISTRATIVE_AREA_LEVEL_2      LOCALITY SUBLOCALITY        STREET_NAME  \\\n",
       "10                      New York  Bronx County   The Bronx  Concourse Village   \n",
       "18                      New York  Bronx County   The Bronx    North Riverdale   \n",
       "43                      New York  Bronx County   The Bronx          Concourse   \n",
       "96                      New York  Bronx County   The Bronx     Spuyten Duyvil   \n",
       "146                     New York  Bronx County   The Bronx         Highbridge   \n",
       "...                          ...           ...         ...                ...   \n",
       "4591                    New York  Bronx County   The Bronx         West Bronx   \n",
       "4662                    New York  Bronx County   The Bronx    North Riverdale   \n",
       "4692                    New York  Bronx County   The Bronx         Pelham Bay   \n",
       "4731                    New York  Bronx County   The Bronx          Riverdale   \n",
       "4732                    New York  Bronx County   The Bronx     Spuyten Duyvil   \n",
       "\n",
       "     LONG_NAME                                 FORMATTED_ADDRESS   LATITUDE  \\\n",
       "10         800     800 Grand Concourse #2j, Bronx, NY 10451, USA  40.824870   \n",
       "18        5800  5800 Arlington Ave Apt 21s, Bronx, NY 10471, USA  40.907370   \n",
       "43         828          828 Gerard Ave #5f, Bronx, NY 10451, USA  40.826035   \n",
       "96        2501        2501 Palisade Ave #2, Bronx, NY 10463, USA  40.880987   \n",
       "146       1383       1383 Plimpton Ave #1c, Bronx, NY 10452, USA  40.842371   \n",
       "...        ...                                               ...        ...   \n",
       "4591      3000      3000 Valentine Ave #3b, Bronx, NY 10458, USA  40.872414   \n",
       "4662      5900     5900 Arlington Ave #10h, Bronx, NY 10471, USA  40.909252   \n",
       "4692      3121      3121 Middletown Rd #6b, Bronx, NY 10461, USA  40.845596   \n",
       "4731      3935     3935 Blackstone Ave #3f, Bronx, NY 10471, USA  40.890384   \n",
       "4732      3015      3015 Riverdale Ave #2a, Bronx, NY 10463, USA  40.880930   \n",
       "\n",
       "      LONGITUDE  \n",
       "10   -73.922983  \n",
       "18   -73.906558  \n",
       "43   -73.925663  \n",
       "96   -73.922434  \n",
       "146  -73.923444  \n",
       "...         ...  \n",
       "4591 -73.885223  \n",
       "4662 -73.905421  \n",
       "4692 -73.826422  \n",
       "4731 -73.911788  \n",
       "4732 -73.910749  \n",
       "\n",
       "[184 rows x 17 columns]"
      ]
     },
     "execution_count": 34,
     "metadata": {},
     "output_type": "execute_result"
    }
   ],
   "source": [
    "bronx_prop = df.query(\"SUBLOCALITY == 'The Bronx'\")\n",
    "bronx_prop"
   ]
  },
  {
   "cell_type": "markdown",
   "metadata": {},
   "source": [
    "3. Find the mean, median, and mode PRICE for all properties in bronx_prop.\n",
    "a. In a markdown cell tell me what you can learn about the data from just these\n",
    "values."
   ]
  },
  {
   "cell_type": "code",
   "execution_count": 44,
   "metadata": {},
   "outputs": [],
   "source": [
    "bronx_prop = bronx_prop.select_dtypes(\"number\")\n",
    "mean = df[\"PRICE\"].mean()\n",
    "median = df[\"PRICE\"].median()\n",
    "mode = df[\"PRICE\"].mode()\n",
    "\n"
   ]
  },
  {
   "cell_type": "markdown",
   "metadata": {},
   "source": [
    "You can learn about the difference between the different types of centering values"
   ]
  },
  {
   "cell_type": "markdown",
   "metadata": {},
   "source": [
    "4. Determine the range of prices for the bronx properties"
   ]
  },
  {
   "cell_type": "code",
   "execution_count": 46,
   "metadata": {},
   "outputs": [],
   "source": [
    "range = bronx_prop.max() - bronx_prop.min()"
   ]
  },
  {
   "cell_type": "markdown",
   "metadata": {},
   "source": [
    "5. Create a boxplot for the PRICE column.\n",
    "a. In a new markdown cell, tell me everything that you can learn from this boxplot -\n",
    "min, max, quartiles, etc"
   ]
  },
  {
   "cell_type": "code",
   "execution_count": 48,
   "metadata": {},
   "outputs": [
    {
     "data": {
      "image/png": "[encoded data removed]",
      "text/plain": [
       "<Figure size 640x480 with 1 Axes>"
      ]
     },
     "metadata": {},
     "output_type": "display_data"
    }
   ],
   "source": [
    "plt.boxplot(bronx_prop[\"PRICE\"])\n",
    "plt.title(\"Price of houses\")\n",
    "plt.xlabel(\"Data 1\")\n",
    "plt.ylabel(\"Price\")\n",
    "plt.show()"
   ]
  },
  {
   "cell_type": "markdown",
   "metadata": {},
   "source": [
    "You can learn the range, the values of the quartiles which you can uses for the variance and standard deviation"
   ]
  },
  {
   "cell_type": "markdown",
   "metadata": {},
   "source": [
    "6. Create a histogram for the PRICE column with at least 50 bins."
   ]
  },
  {
   "cell_type": "code",
   "execution_count": 51,
   "metadata": {},
   "outputs": [
    {
     "data": {
      "image/png": "[encoded data removed]",
      "text/plain": [
       "<Figure size 1000x800 with 1 Axes>"
      ]
     },
     "metadata": {},
     "output_type": "display_data"
    }
   ],
   "source": [
    "bronx_prop[[\"PRICE\"]].hist(figsize=(10, 8), bins=50)\n",
    "\n",
    "plt.suptitle(\"Histograms of Price Columns\")\n",
    "\n",
    "plt.show()"
   ]
  },
  {
   "cell_type": "markdown",
   "metadata": {},
   "source": [
    "7. Get the standard deviation for the PRICE column"
   ]
  },
  {
   "cell_type": "code",
   "execution_count": 52,
   "metadata": {},
   "outputs": [
    {
     "data": {
      "text/plain": [
       "277834.99600401166"
      ]
     },
     "execution_count": 52,
     "metadata": {},
     "output_type": "execute_result"
    }
   ],
   "source": [
    "bronx_prop[\"PRICE\"].std()"
   ]
  },
  {
   "cell_type": "markdown",
   "metadata": {},
   "source": [
    "8. In a new markdown cell, summarize everything you’ve now discovered about the prices\n",
    "of The Bronx properties"
   ]
  },
  {
   "cell_type": "markdown",
   "metadata": {},
   "source": [
    "I have discovered that the deviation between house properties in the bronx is not that big when not considering the outsiders "
   ]
  }
 ],
 "metadata": {
  "kernelspec": {
   "display_name": ".venv",
   "language": "python",
   "name": "python3"
  },
  "language_info": {
   "codemirror_mode": {
    "name": "ipython",
    "version": 3
   },
   "file_extension": ".py",
   "mimetype": "text/x-python",
   "name": "python",
   "nbconvert_exporter": "python",
   "pygments_lexer": "ipython3",
   "version": "3.9.6"
  }
 },
 "nbformat": 4,
 "nbformat_minor": 2
}
