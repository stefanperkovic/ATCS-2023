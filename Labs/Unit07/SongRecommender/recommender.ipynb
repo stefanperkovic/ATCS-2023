{
 "cells": [
  {
   "cell_type": "markdown",
   "metadata": {},
   "source": [
    "# Song Recommendation using KMeans Clustering\n",
    "An example of how we find clusters in data using K-Means\n",
    "\n",
    "As defined by Spotify:\n",
    "\n",
    "acousticness: A confidence measure from 0.0 to 1.0 of whether the track is acoustic. 1.0 represents high confidence the track is acoustic.\n",
    "\n",
    "danceability: Danceability describes how suitable a track is for dancing based on a combination of musical elements including tempo, rhythm stability, beat strength, and overall regularity. A value of 0.0 is least danceable and 1.0 is most danceable.\n",
    "\n",
    "speechiness: Speechiness detects the presence of spoken words in a track. The more exclusively speech-like the recording (e.g. talk show, audio book, poetry), the closer to 1.0 the attribute value. Values above 0.66 describe tracks that are probably made entirely of spoken words. Values between 0.33 and 0.66 describe tracks that may contain both music and speech, either in sections or layered, including such cases as rap music. Values below 0.33 most likely represent music and other non-speech-like tracks."
   ]
  },
  {
   "cell_type": "markdown",
   "metadata": {},
   "source": [
    "## 1. Library Imports and Data Loading"
   ]
  },
  {
   "cell_type": "code",
   "execution_count": 2,
   "metadata": {},
   "outputs": [],
   "source": [
    "import pandas as pd\n",
    "import seaborn as sns\n",
    "import matplotlib.pyplot as plt\n",
    "from sklearn.cluster import KMeans\n",
    "from sklearn.preprocessing import MinMaxScaler\n",
    "from sklearn.metrics import silhouette_score"
   ]
  },
  {
   "cell_type": "code",
   "execution_count": 3,
   "metadata": {},
   "outputs": [],
   "source": [
    "df = pd.read_csv(\"data/songs.csv\")"
   ]
  },
  {
   "cell_type": "markdown",
   "metadata": {},
   "source": [
    "## 2. Understanding the Data"
   ]
  },
  {
   "cell_type": "code",
   "execution_count": 11,
   "metadata": {},
   "outputs": [
    {
     "name": "stdout",
     "output_type": "stream",
     "text": [
      "<class 'pandas.core.frame.DataFrame'>\n",
      "RangeIndex: 2000 entries, 0 to 1999\n",
      "Data columns (total 5 columns):\n",
      " #   Column        Non-Null Count  Dtype  \n",
      "---  ------        --------------  -----  \n",
      " 0   artist        2000 non-null   object \n",
      " 1   song          2000 non-null   object \n",
      " 2   acousticness  2000 non-null   float64\n",
      " 3   speechiness   2000 non-null   float64\n",
      " 4   danceability  2000 non-null   float64\n",
      "dtypes: float64(3), object(2)\n",
      "memory usage: 78.2+ KB\n"
     ]
    },
    {
     "data": {
      "text/html": [
       "<div>\n",
       "<style scoped>\n",
       "    .dataframe tbody tr th:only-of-type {\n",
       "        vertical-align: middle;\n",
       "    }\n",
       "\n",
       "    .dataframe tbody tr th {\n",
       "        vertical-align: top;\n",
       "    }\n",
       "\n",
       "    .dataframe thead th {\n",
       "        text-align: right;\n",
       "    }\n",
       "</style>\n",
       "<table border=\"1\" class=\"dataframe\">\n",
       "  <thead>\n",
       "    <tr style=\"text-align: right;\">\n",
       "      <th></th>\n",
       "      <th>artist</th>\n",
       "      <th>song</th>\n",
       "      <th>acousticness</th>\n",
       "      <th>speechiness</th>\n",
       "      <th>danceability</th>\n",
       "    </tr>\n",
       "  </thead>\n",
       "  <tbody>\n",
       "    <tr>\n",
       "      <th>0</th>\n",
       "      <td>Britney Spears</td>\n",
       "      <td>Oops!...I Did It Again</td>\n",
       "      <td>0.3000</td>\n",
       "      <td>0.0437</td>\n",
       "      <td>0.751</td>\n",
       "    </tr>\n",
       "    <tr>\n",
       "      <th>1</th>\n",
       "      <td>blink-182</td>\n",
       "      <td>All The Small Things</td>\n",
       "      <td>0.0103</td>\n",
       "      <td>0.0488</td>\n",
       "      <td>0.434</td>\n",
       "    </tr>\n",
       "    <tr>\n",
       "      <th>2</th>\n",
       "      <td>Faith Hill</td>\n",
       "      <td>Breathe</td>\n",
       "      <td>0.1730</td>\n",
       "      <td>0.0290</td>\n",
       "      <td>0.529</td>\n",
       "    </tr>\n",
       "    <tr>\n",
       "      <th>3</th>\n",
       "      <td>Bon Jovi</td>\n",
       "      <td>It's My Life</td>\n",
       "      <td>0.0263</td>\n",
       "      <td>0.0466</td>\n",
       "      <td>0.551</td>\n",
       "    </tr>\n",
       "    <tr>\n",
       "      <th>4</th>\n",
       "      <td>*NSYNC</td>\n",
       "      <td>Bye Bye Bye</td>\n",
       "      <td>0.0408</td>\n",
       "      <td>0.0516</td>\n",
       "      <td>0.614</td>\n",
       "    </tr>\n",
       "  </tbody>\n",
       "</table>\n",
       "</div>"
      ],
      "text/plain": [
       "           artist                    song  acousticness  speechiness  \\\n",
       "0  Britney Spears  Oops!...I Did It Again        0.3000       0.0437   \n",
       "1       blink-182    All The Small Things        0.0103       0.0488   \n",
       "2      Faith Hill                 Breathe        0.1730       0.0290   \n",
       "3        Bon Jovi            It's My Life        0.0263       0.0466   \n",
       "4          *NSYNC             Bye Bye Bye        0.0408       0.0516   \n",
       "\n",
       "   danceability  \n",
       "0         0.751  \n",
       "1         0.434  \n",
       "2         0.529  \n",
       "3         0.551  \n",
       "4         0.614  "
      ]
     },
     "execution_count": 11,
     "metadata": {},
     "output_type": "execute_result"
    }
   ],
   "source": [
    "df.info()\n",
    "df.head()\n"
   ]
  },
  {
   "cell_type": "markdown",
   "metadata": {},
   "source": [
    "## 3. Data Processing"
   ]
  },
  {
   "cell_type": "code",
   "execution_count": 15,
   "metadata": {},
   "outputs": [],
   "source": [
    "selected_columns = [\"acousticness\", \"speechiness\", \"danceability\"]\n",
    "\n",
    "# Normalize our Data\n",
    "scaler = MinMaxScaler()\n",
    "scaler = scaler.fit(df[selected_columns])\n",
    "\n",
    "df_norm = pd.DataFrame(scaler.transform(df[selected_columns]), columns=selected_columns)"
   ]
  },
  {
   "cell_type": "markdown",
   "metadata": {},
   "source": [
    "## 4. Hyperparameter Tuning"
   ]
  },
  {
   "cell_type": "code",
   "execution_count": 16,
   "metadata": {},
   "outputs": [
    {
     "data": {
      "image/png": "[encoded data removed]",
      "text/plain": [
       "<Figure size 640x480 with 1 Axes>"
      ]
     },
     "metadata": {},
     "output_type": "display_data"
    }
   ],
   "source": [
    "inertias = []\n",
    "for k in range(1, 11):\n",
    "    # Build and fit our model\n",
    "    model = KMeans(n_clusters = k)\n",
    "    model = model.fit(df_norm)\n",
    "\n",
    "    # Store the interias\n",
    "    inertias.append(model.inertia_)\n",
    "\n",
    "# Plot the inertias to find the Elbow\n",
    "plt.plot(range(1, 11), inertias, marker=\"o\")\n",
    "plt.xlabel(\"Values of K\")\n",
    "plt.ylabel(\"Inertia\")\n",
    "plt.title(\"The Elbow Method using Inertia\")\n",
    "plt.show()"
   ]
  },
  {
   "cell_type": "markdown",
   "metadata": {},
   "source": [
    "## 5. Build our Model"
   ]
  },
  {
   "cell_type": "code",
   "execution_count": 17,
   "metadata": {},
   "outputs": [],
   "source": [
    "model = KMeans(n_clusters=4, random_state=5)\n",
    "\n",
    "# Train the model\n",
    "model = model.fit(df_norm)"
   ]
  },
  {
   "cell_type": "markdown",
   "metadata": {},
   "source": [
    "## 6. Viewing Results"
   ]
  },
  {
   "cell_type": "code",
   "execution_count": 18,
   "metadata": {},
   "outputs": [
    {
     "data": {
      "text/html": [
       "<div>\n",
       "<style scoped>\n",
       "    .dataframe tbody tr th:only-of-type {\n",
       "        vertical-align: middle;\n",
       "    }\n",
       "\n",
       "    .dataframe tbody tr th {\n",
       "        vertical-align: top;\n",
       "    }\n",
       "\n",
       "    .dataframe thead th {\n",
       "        text-align: right;\n",
       "    }\n",
       "</style>\n",
       "<table border=\"1\" class=\"dataframe\">\n",
       "  <thead>\n",
       "    <tr style=\"text-align: right;\">\n",
       "      <th></th>\n",
       "      <th>artist</th>\n",
       "      <th>song</th>\n",
       "      <th>acousticness</th>\n",
       "      <th>speechiness</th>\n",
       "      <th>danceability</th>\n",
       "      <th>label</th>\n",
       "    </tr>\n",
       "  </thead>\n",
       "  <tbody>\n",
       "    <tr>\n",
       "      <th>0</th>\n",
       "      <td>Britney Spears</td>\n",
       "      <td>Oops!...I Did It Again</td>\n",
       "      <td>0.3000</td>\n",
       "      <td>0.0437</td>\n",
       "      <td>0.751</td>\n",
       "      <td>0</td>\n",
       "    </tr>\n",
       "    <tr>\n",
       "      <th>1</th>\n",
       "      <td>blink-182</td>\n",
       "      <td>All The Small Things</td>\n",
       "      <td>0.0103</td>\n",
       "      <td>0.0488</td>\n",
       "      <td>0.434</td>\n",
       "      <td>2</td>\n",
       "    </tr>\n",
       "    <tr>\n",
       "      <th>2</th>\n",
       "      <td>Faith Hill</td>\n",
       "      <td>Breathe</td>\n",
       "      <td>0.1730</td>\n",
       "      <td>0.0290</td>\n",
       "      <td>0.529</td>\n",
       "      <td>2</td>\n",
       "    </tr>\n",
       "    <tr>\n",
       "      <th>3</th>\n",
       "      <td>Bon Jovi</td>\n",
       "      <td>It's My Life</td>\n",
       "      <td>0.0263</td>\n",
       "      <td>0.0466</td>\n",
       "      <td>0.551</td>\n",
       "      <td>2</td>\n",
       "    </tr>\n",
       "    <tr>\n",
       "      <th>4</th>\n",
       "      <td>*NSYNC</td>\n",
       "      <td>Bye Bye Bye</td>\n",
       "      <td>0.0408</td>\n",
       "      <td>0.0516</td>\n",
       "      <td>0.614</td>\n",
       "      <td>2</td>\n",
       "    </tr>\n",
       "  </tbody>\n",
       "</table>\n",
       "</div>"
      ],
      "text/plain": [
       "           artist                    song  acousticness  speechiness  \\\n",
       "0  Britney Spears  Oops!...I Did It Again        0.3000       0.0437   \n",
       "1       blink-182    All The Small Things        0.0103       0.0488   \n",
       "2      Faith Hill                 Breathe        0.1730       0.0290   \n",
       "3        Bon Jovi            It's My Life        0.0263       0.0466   \n",
       "4          *NSYNC             Bye Bye Bye        0.0408       0.0516   \n",
       "\n",
       "   danceability  label  \n",
       "0         0.751      0  \n",
       "1         0.434      2  \n",
       "2         0.529      2  \n",
       "3         0.551      2  \n",
       "4         0.614      2  "
      ]
     },
     "execution_count": 18,
     "metadata": {},
     "output_type": "execute_result"
    }
   ],
   "source": [
    "# Labels\n",
    "model.labels_\n",
    "\n",
    "model.inertia_\n",
    "\n",
    "model.cluster_centers_\n",
    "\n",
    "# Add the labels to the dataset\n",
    "df[\"label\"] = model.labels_\n",
    "df.head()"
   ]
  },
  {
   "cell_type": "markdown",
   "metadata": {},
   "source": [
    "## 7. Evaluation"
   ]
  },
  {
   "cell_type": "code",
   "execution_count": 19,
   "metadata": {},
   "outputs": [
    {
     "data": {
      "text/plain": [
       "0.3452067888198134"
      ]
     },
     "execution_count": 19,
     "metadata": {},
     "output_type": "execute_result"
    }
   ],
   "source": [
    "# Silhouttte Score\n",
    "silhouette_score(df_norm, model.labels_)"
   ]
  },
  {
   "cell_type": "markdown",
   "metadata": {},
   "source": [
    "## 8. Song Recommendation"
   ]
  },
  {
   "cell_type": "code",
   "execution_count": 33,
   "metadata": {},
   "outputs": [
    {
     "data": {
      "text/html": [
       "<div>\n",
       "<style scoped>\n",
       "    .dataframe tbody tr th:only-of-type {\n",
       "        vertical-align: middle;\n",
       "    }\n",
       "\n",
       "    .dataframe tbody tr th {\n",
       "        vertical-align: top;\n",
       "    }\n",
       "\n",
       "    .dataframe thead th {\n",
       "        text-align: right;\n",
       "    }\n",
       "</style>\n",
       "<table border=\"1\" class=\"dataframe\">\n",
       "  <thead>\n",
       "    <tr style=\"text-align: right;\">\n",
       "      <th></th>\n",
       "      <th>artist</th>\n",
       "      <th>song</th>\n",
       "      <th>acousticness</th>\n",
       "      <th>speechiness</th>\n",
       "      <th>danceability</th>\n",
       "      <th>label</th>\n",
       "    </tr>\n",
       "  </thead>\n",
       "  <tbody>\n",
       "    <tr>\n",
       "      <th>0</th>\n",
       "      <td>Britney Spears</td>\n",
       "      <td>Oops!...I Did It Again</td>\n",
       "      <td>0.3000</td>\n",
       "      <td>0.0437</td>\n",
       "      <td>0.751</td>\n",
       "      <td>0</td>\n",
       "    </tr>\n",
       "    <tr>\n",
       "      <th>5</th>\n",
       "      <td>Sisqo</td>\n",
       "      <td>Thong Song</td>\n",
       "      <td>0.1190</td>\n",
       "      <td>0.0654</td>\n",
       "      <td>0.706</td>\n",
       "      <td>0</td>\n",
       "    </tr>\n",
       "    <tr>\n",
       "      <th>6</th>\n",
       "      <td>Eminem</td>\n",
       "      <td>The Real Slim Shady</td>\n",
       "      <td>0.0302</td>\n",
       "      <td>0.0572</td>\n",
       "      <td>0.949</td>\n",
       "      <td>0</td>\n",
       "    </tr>\n",
       "    <tr>\n",
       "      <th>7</th>\n",
       "      <td>Robbie Williams</td>\n",
       "      <td>Rock DJ</td>\n",
       "      <td>0.0267</td>\n",
       "      <td>0.0322</td>\n",
       "      <td>0.708</td>\n",
       "      <td>0</td>\n",
       "    </tr>\n",
       "    <tr>\n",
       "      <th>8</th>\n",
       "      <td>Destiny's Child</td>\n",
       "      <td>Say My Name</td>\n",
       "      <td>0.2730</td>\n",
       "      <td>0.1020</td>\n",
       "      <td>0.713</td>\n",
       "      <td>0</td>\n",
       "    </tr>\n",
       "    <tr>\n",
       "      <th>...</th>\n",
       "      <td>...</td>\n",
       "      <td>...</td>\n",
       "      <td>...</td>\n",
       "      <td>...</td>\n",
       "      <td>...</td>\n",
       "      <td>...</td>\n",
       "    </tr>\n",
       "    <tr>\n",
       "      <th>1989</th>\n",
       "      <td>Marshmello</td>\n",
       "      <td>One Thing Right</td>\n",
       "      <td>0.0644</td>\n",
       "      <td>0.0450</td>\n",
       "      <td>0.659</td>\n",
       "      <td>0</td>\n",
       "    </tr>\n",
       "    <tr>\n",
       "      <th>1993</th>\n",
       "      <td>Joel Corry</td>\n",
       "      <td>Sorry</td>\n",
       "      <td>0.0547</td>\n",
       "      <td>0.0562</td>\n",
       "      <td>0.744</td>\n",
       "      <td>0</td>\n",
       "    </tr>\n",
       "    <tr>\n",
       "      <th>1995</th>\n",
       "      <td>Jonas Brothers</td>\n",
       "      <td>Sucker</td>\n",
       "      <td>0.0427</td>\n",
       "      <td>0.0588</td>\n",
       "      <td>0.842</td>\n",
       "      <td>0</td>\n",
       "    </tr>\n",
       "    <tr>\n",
       "      <th>1997</th>\n",
       "      <td>Blanco Brown</td>\n",
       "      <td>The Git Up</td>\n",
       "      <td>0.0669</td>\n",
       "      <td>0.1090</td>\n",
       "      <td>0.847</td>\n",
       "      <td>0</td>\n",
       "    </tr>\n",
       "    <tr>\n",
       "      <th>1999</th>\n",
       "      <td>Post Malone</td>\n",
       "      <td>Circles</td>\n",
       "      <td>0.1920</td>\n",
       "      <td>0.0395</td>\n",
       "      <td>0.695</td>\n",
       "      <td>0</td>\n",
       "    </tr>\n",
       "  </tbody>\n",
       "</table>\n",
       "<p>874 rows × 6 columns</p>\n",
       "</div>"
      ],
      "text/plain": [
       "               artist                    song  acousticness  speechiness  \\\n",
       "0      Britney Spears  Oops!...I Did It Again        0.3000       0.0437   \n",
       "5               Sisqo              Thong Song        0.1190       0.0654   \n",
       "6              Eminem     The Real Slim Shady        0.0302       0.0572   \n",
       "7     Robbie Williams                 Rock DJ        0.0267       0.0322   \n",
       "8     Destiny's Child             Say My Name        0.2730       0.1020   \n",
       "...               ...                     ...           ...          ...   \n",
       "1989       Marshmello         One Thing Right        0.0644       0.0450   \n",
       "1993       Joel Corry                   Sorry        0.0547       0.0562   \n",
       "1995   Jonas Brothers                  Sucker        0.0427       0.0588   \n",
       "1997     Blanco Brown              The Git Up        0.0669       0.1090   \n",
       "1999      Post Malone                 Circles        0.1920       0.0395   \n",
       "\n",
       "      danceability  label  \n",
       "0            0.751      0  \n",
       "5            0.706      0  \n",
       "6            0.949      0  \n",
       "7            0.708      0  \n",
       "8            0.713      0  \n",
       "...            ...    ...  \n",
       "1989         0.659      0  \n",
       "1993         0.744      0  \n",
       "1995         0.842      0  \n",
       "1997         0.847      0  \n",
       "1999         0.695      0  \n",
       "\n",
       "[874 rows x 6 columns]"
      ]
     },
     "execution_count": 33,
     "metadata": {},
     "output_type": "execute_result"
    }
   ],
   "source": [
    "# Choose song\n",
    "# Finds its cluster\n",
    "# Find another song in the same cluster\n",
    "song = \"Oops!...I Did It Again\"\n",
    "label = df.loc[df[\"song\"] == song][\"label\"].values[0]\n",
    "df.loc[df[\"label\"] == 0]\n"
   ]
  }
 ],
 "metadata": {
  "kernelspec": {
   "display_name": ".venv",
   "language": "python",
   "name": "python3"
  },
  "language_info": {
   "codemirror_mode": {
    "name": "ipython",
    "version": 3
   },
   "file_extension": ".py",
   "mimetype": "text/x-python",
   "name": "python",
   "nbconvert_exporter": "python",
   "pygments_lexer": "ipython3",
   "version": "3.9.6"
  }
 },
 "nbformat": 4,
 "nbformat_minor": 2
}
