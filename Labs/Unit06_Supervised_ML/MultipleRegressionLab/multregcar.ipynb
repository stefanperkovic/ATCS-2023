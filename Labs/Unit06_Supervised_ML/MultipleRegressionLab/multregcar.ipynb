{
 "cells": [
  {
   "cell_type": "markdown",
   "metadata": {},
   "source": [
    "# Multiple Linear Regression - Used Car\n",
    "\n",
    "In this notebook, you will use data about cars to help predict the price of used cars.\n",
    "\n",
    "1. car_id: unique id for each car sold \n",
    "2. name: Make and model of the car\n",
    "3. fueltype: gas or diesel\n",
    "4. enginelocation: front or back\n",
    "5. wheelbase: distance between the front and back wheels (inches)\n",
    "6. carlength: length of the car (inches)\n",
    "7. carheight: height of the car (inches)\n",
    "8. curbweight: weight of the car with a full tank of gas (pounds)\n",
    "9. enginetype: 'dohc', 'ohcv', 'ohc', 'l', 'rotor', 'ohcf', 'dohcv'\n",
    "10. enginesize: size of the engine (cubic inches)\n",
    "11. stroke: distance the piston travels along the cylinder (inches)\n",
    "12. compressionratio: the volume of the cylinder with the pistons at the bottom\n",
    "versus the volumn with the pistons at the top \n",
    "13. horsepower\n",
    "14. peakrpm: top revolutions per minute (rpm) of the engine\n",
    "15. citympg: average miles per gallon in the city\n",
    "16. highwaympg: average miles per gallon on a highway\n",
    "17. price\n"
   ]
  },
  {
   "cell_type": "markdown",
   "metadata": {},
   "source": [
    "## 1. Library Imports and Data Loading"
   ]
  },
  {
   "cell_type": "code",
   "execution_count": null,
   "metadata": {},
   "outputs": [],
   "source": [
    "import pandas as pd\n",
    "import numpy as np\n",
    "import seaborn as sns\n",
    "import matplotlib.pyplot as plt\n",
    "from sklearn.linear_model import LinearRegression"
   ]
  },
  {
   "cell_type": "code",
   "execution_count": null,
   "metadata": {},
   "outputs": [],
   "source": [
    "df = pd.read_csv(\"data/car.csv\")"
   ]
  },
  {
   "cell_type": "markdown",
   "metadata": {},
   "source": [
    "## 2. Determine if we can use Multiple Linear Regression\n",
    "* Data must be quantitative\n",
    "* Data must have a linear relationship\n",
    "* Residuals must be normally distributed\n",
    "* There should be no meaningful correlation between independent variables"
   ]
  },
  {
   "cell_type": "code",
   "execution_count": null,
   "metadata": {},
   "outputs": [],
   "source": []
  },
  {
   "cell_type": "markdown",
   "metadata": {},
   "source": [
    "## 3. Feature Selection"
   ]
  },
  {
   "cell_type": "code",
   "execution_count": null,
   "metadata": {},
   "outputs": [],
   "source": []
  },
  {
   "cell_type": "markdown",
   "metadata": {},
   "source": [
    "## 4. Create Final Model based off of feature selection"
   ]
  },
  {
   "cell_type": "code",
   "execution_count": null,
   "metadata": {},
   "outputs": [],
   "source": []
  },
  {
   "cell_type": "markdown",
   "metadata": {},
   "source": [
    "## 5. Check Residuals"
   ]
  },
  {
   "cell_type": "code",
   "execution_count": null,
   "metadata": {},
   "outputs": [],
   "source": []
  },
  {
   "cell_type": "markdown",
   "metadata": {},
   "source": [
    "## 6. Evaluate R^2"
   ]
  },
  {
   "cell_type": "code",
   "execution_count": null,
   "metadata": {},
   "outputs": [],
   "source": []
  }
 ],
 "metadata": {
  "kernelspec": {
   "display_name": ".venv",
   "language": "python",
   "name": "python3"
  },
  "language_info": {
   "codemirror_mode": {
    "name": "ipython",
    "version": 3
   },
   "file_extension": ".py",
   "mimetype": "text/x-python",
   "name": "python",
   "nbconvert_exporter": "python",
   "pygments_lexer": "ipython3",
   "version": "3.9.7"
  }
 },
 "nbformat": 4,
 "nbformat_minor": 2
}
